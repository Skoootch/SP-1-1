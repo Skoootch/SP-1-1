{
 "cells": [
  {
   "cell_type": "markdown",
   "id": "0641e362",
   "metadata": {
    "lang": "en"
   },
   "source": [
    "<h1> Complex project </h1>"
   ]
  },
  {
   "cell_type": "markdown",
   "id": "672aa8a8",
   "metadata": {
    "lang": "en"
   },
   "source": [
    "**Project description**\n",
    "\n",
    "\n",
    "You work in the Strimchik online store, which sells computer games all over the world. Historical data on game sales, user and expert ratings, genres and platforms (for example, Xbox or PlayStation) are available from open sources. You need to identify patterns that determine the success of the game. This will allow you to place a bet on a potentially popular product and plan advertising campaigns.\n",
    "Here is data up to 2016. Let's imagine it's December 2016 and you're planning a campaign for 2017. It is necessary to work out the principle of working with data. It doesn't matter whether you forecast sales for 2017 based on 2016 data or 2027 sales based on 2026 data.\n",
    "The data set contains the abbreviation ESRB (Entertainment Software Rating Board) - this is an association that determines the age rating of computer games. The ESRB evaluates game content and assigns it an appropriate age rating, such as Mature, Young Children, or Teen."
   ]
  },
  {
   "cell_type": "markdown",
   "id": "6d8bd098",
   "metadata": {},
   "source": [
    "P.s initially the project was executed in Russian, and only then it was translated into English using an auto-translator, so errors or untranslated sections are possible."
   ]
  },
  {
   "cell_type": "markdown",
   "id": "5ae643b2",
   "metadata": {
    "lang": "en"
   },
   "source": [
    "**Description of data**\n",
    "\n",
    "\n",
    "- Name — the name of the game\n",
    "- Platform - platform\n",
    "- Year_of_Release — year of release\n",
    "- Genre - game genre\n",
    "- NA_sales - sales in North America (millions of copies sold)\n",
    "- EU_sales - sales in Europe (millions of copies sold)\n",
    "- JP_sales - sales in Japan (millions of copies sold)\n",
    "- Other_sales - sales in other countries (millions of copies sold)\n",
    "- Critic_Score - critics' score (maximum 100)\n",
    "- User_Score - user rating (maximum 10)\n",
    "- Rating - rating from the ESRB organization"
   ]
  },
  {
   "cell_type": "markdown",
   "id": "b4435f85",
   "metadata": {
    "lang": "en"
   },
   "source": [
    "<h2> First view </h2> "
   ]
  },
  {
   "cell_type": "code",
   "execution_count": 1,
   "id": "2ba45da9",
   "metadata": {},
   "outputs": [],
   "source": [
    "import pandas as pd\n",
    "import numpy as np\n",
    "import matplotlib.pyplot as plt\n",
    "import scipy.stats as sp\n",
    "import seaborn as sns"
   ]
  },
  {
   "cell_type": "code",
   "execution_count": 2,
   "id": "197e1e6b",
   "metadata": {},
   "outputs": [
    {
     "data": {
      "text/html": [
       "<div>\n",
       "<style scoped>\n",
       "    .dataframe tbody tr th:only-of-type {\n",
       "        vertical-align: middle;\n",
       "    }\n",
       "\n",
       "    .dataframe tbody tr th {\n",
       "        vertical-align: top;\n",
       "    }\n",
       "\n",
       "    .dataframe thead th {\n",
       "        text-align: right;\n",
       "    }\n",
       "</style>\n",
       "<table border=\"1\" class=\"dataframe\">\n",
       "  <thead>\n",
       "    <tr style=\"text-align: right;\">\n",
       "      <th></th>\n",
       "      <th>Name</th>\n",
       "      <th>Platform</th>\n",
       "      <th>Year_of_Release</th>\n",
       "      <th>Genre</th>\n",
       "      <th>NA_sales</th>\n",
       "      <th>EU_sales</th>\n",
       "      <th>JP_sales</th>\n",
       "      <th>Other_sales</th>\n",
       "      <th>Critic_Score</th>\n",
       "      <th>User_Score</th>\n",
       "      <th>Rating</th>\n",
       "    </tr>\n",
       "  </thead>\n",
       "  <tbody>\n",
       "    <tr>\n",
       "      <th>0</th>\n",
       "      <td>Wii Sports</td>\n",
       "      <td>Wii</td>\n",
       "      <td>2006.0</td>\n",
       "      <td>Sports</td>\n",
       "      <td>41.36</td>\n",
       "      <td>28.96</td>\n",
       "      <td>3.77</td>\n",
       "      <td>8.45</td>\n",
       "      <td>76.0</td>\n",
       "      <td>8</td>\n",
       "      <td>E</td>\n",
       "    </tr>\n",
       "    <tr>\n",
       "      <th>1</th>\n",
       "      <td>Super Mario Bros.</td>\n",
       "      <td>NES</td>\n",
       "      <td>1985.0</td>\n",
       "      <td>Platform</td>\n",
       "      <td>29.08</td>\n",
       "      <td>3.58</td>\n",
       "      <td>6.81</td>\n",
       "      <td>0.77</td>\n",
       "      <td>NaN</td>\n",
       "      <td>NaN</td>\n",
       "      <td>NaN</td>\n",
       "    </tr>\n",
       "    <tr>\n",
       "      <th>2</th>\n",
       "      <td>Mario Kart Wii</td>\n",
       "      <td>Wii</td>\n",
       "      <td>2008.0</td>\n",
       "      <td>Racing</td>\n",
       "      <td>15.68</td>\n",
       "      <td>12.76</td>\n",
       "      <td>3.79</td>\n",
       "      <td>3.29</td>\n",
       "      <td>82.0</td>\n",
       "      <td>8.3</td>\n",
       "      <td>E</td>\n",
       "    </tr>\n",
       "    <tr>\n",
       "      <th>3</th>\n",
       "      <td>Wii Sports Resort</td>\n",
       "      <td>Wii</td>\n",
       "      <td>2009.0</td>\n",
       "      <td>Sports</td>\n",
       "      <td>15.61</td>\n",
       "      <td>10.93</td>\n",
       "      <td>3.28</td>\n",
       "      <td>2.95</td>\n",
       "      <td>80.0</td>\n",
       "      <td>8</td>\n",
       "      <td>E</td>\n",
       "    </tr>\n",
       "    <tr>\n",
       "      <th>4</th>\n",
       "      <td>Pokemon Red/Pokemon Blue</td>\n",
       "      <td>GB</td>\n",
       "      <td>1996.0</td>\n",
       "      <td>Role-Playing</td>\n",
       "      <td>11.27</td>\n",
       "      <td>8.89</td>\n",
       "      <td>10.22</td>\n",
       "      <td>1.00</td>\n",
       "      <td>NaN</td>\n",
       "      <td>NaN</td>\n",
       "      <td>NaN</td>\n",
       "    </tr>\n",
       "  </tbody>\n",
       "</table>\n",
       "</div>"
      ],
      "text/plain": [
       "                       Name Platform  Year_of_Release         Genre  NA_sales  \\\n",
       "0                Wii Sports      Wii           2006.0        Sports     41.36   \n",
       "1         Super Mario Bros.      NES           1985.0      Platform     29.08   \n",
       "2            Mario Kart Wii      Wii           2008.0        Racing     15.68   \n",
       "3         Wii Sports Resort      Wii           2009.0        Sports     15.61   \n",
       "4  Pokemon Red/Pokemon Blue       GB           1996.0  Role-Playing     11.27   \n",
       "\n",
       "   EU_sales  JP_sales  Other_sales  Critic_Score User_Score Rating  \n",
       "0     28.96      3.77         8.45          76.0          8      E  \n",
       "1      3.58      6.81         0.77           NaN        NaN    NaN  \n",
       "2     12.76      3.79         3.29          82.0        8.3      E  \n",
       "3     10.93      3.28         2.95          80.0          8      E  \n",
       "4      8.89     10.22         1.00           NaN        NaN    NaN  "
      ]
     },
     "execution_count": 2,
     "metadata": {},
     "output_type": "execute_result"
    }
   ],
   "source": [
    "data = pd.read_csv('/datasets/games.csv')\n",
    "data.head()"
   ]
  },
  {
   "cell_type": "code",
   "execution_count": 3,
   "id": "4780b208",
   "metadata": {},
   "outputs": [
    {
     "name": "stdout",
     "output_type": "stream",
     "text": [
      "Size of dataset: 16715 x 11 \n",
      "<class 'pandas.core.frame.DataFrame'>\n",
      "RangeIndex: 16715 entries, 0 to 16714\n",
      "Data columns (total 11 columns):\n",
      " #   Column           Non-Null Count  Dtype  \n",
      "---  ------           --------------  -----  \n",
      " 0   Name             16713 non-null  object \n",
      " 1   Platform         16715 non-null  object \n",
      " 2   Year_of_Release  16446 non-null  float64\n",
      " 3   Genre            16713 non-null  object \n",
      " 4   NA_sales         16715 non-null  float64\n",
      " 5   EU_sales         16715 non-null  float64\n",
      " 6   JP_sales         16715 non-null  float64\n",
      " 7   Other_sales      16715 non-null  float64\n",
      " 8   Critic_Score     8137 non-null   float64\n",
      " 9   User_Score       10014 non-null  object \n",
      " 10  Rating           9949 non-null   object \n",
      "dtypes: float64(6), object(5)\n",
      "memory usage: 1.4+ MB\n"
     ]
    }
   ],
   "source": [
    "print(f'Size of dataset: {data.shape[0]} x {data.shape[1]} ')\n",
    "data.info()"
   ]
  },
  {
   "cell_type": "code",
   "execution_count": 4,
   "id": "611c0471",
   "metadata": {},
   "outputs": [
    {
     "name": "stdout",
     "output_type": "stream",
     "text": [
      "Name 0.01%\n",
      "Platform 0.0%\n",
      "Year_of_Release 1.61%\n",
      "Genre 0.01%\n",
      "NA_sales 0.0%\n",
      "EU_sales 0.0%\n",
      "JP_sales 0.0%\n",
      "Other_sales 0.0%\n",
      "Critic_Score 51.32%\n",
      "User_Score 40.09%\n",
      "Rating 40.48%\n"
     ]
    }
   ],
   "source": [
    "for column in data.columns:\n",
    "    print(column, (data[column].isna().sum()*100/16715).round(decimals = 2), end = '%\\n')"
   ]
  },
  {
   "cell_type": "markdown",
   "id": "aebdef5f",
   "metadata": {
    "lang": "en"
   },
   "source": [
    "<ul>\n",
    "    <span style=\"color:red\">\n",
    "        <li> Name (rename)</li>\n",
    "        <li> Platform (rename) </li>\n",
    "        <li> Year_of_Release (rename + change data type)</li>\n",
    "        <li> Genre (rename) </li>\n",
    "    </span><span style=\"color:green\">\n",
    "        <li> NA_sales ✔️ </li>\n",
    "        <li> EU_sales ✔️ </li>\n",
    "        <li> JP_sales ✔️ </li>\n",
    "    </span><span style=\"color:red\">\n",
    "        <li> Other_sales (rename) </li>\n",
    "        <li> Critic_Score (rename + see what to fill in the gaps with) </li>\n",
    "        <li> User_Score (rename + see how to fill in the blanks + change data type) </li>\n",
    "        <li> Rating (rename) </li>\n",
    "    </span>\n",
    "</ul>"
   ]
  },
  {
   "cell_type": "code",
   "execution_count": 5,
   "id": "448e7db4",
   "metadata": {
    "scrolled": false
   },
   "outputs": [
    {
     "data": {
      "text/html": [
       "<div>\n",
       "<style scoped>\n",
       "    .dataframe tbody tr th:only-of-type {\n",
       "        vertical-align: middle;\n",
       "    }\n",
       "\n",
       "    .dataframe tbody tr th {\n",
       "        vertical-align: top;\n",
       "    }\n",
       "\n",
       "    .dataframe thead th {\n",
       "        text-align: right;\n",
       "    }\n",
       "</style>\n",
       "<table border=\"1\" class=\"dataframe\">\n",
       "  <thead>\n",
       "    <tr style=\"text-align: right;\">\n",
       "      <th></th>\n",
       "      <th>Year_of_Release</th>\n",
       "      <th>NA_sales</th>\n",
       "      <th>EU_sales</th>\n",
       "      <th>JP_sales</th>\n",
       "      <th>Other_sales</th>\n",
       "      <th>Critic_Score</th>\n",
       "    </tr>\n",
       "  </thead>\n",
       "  <tbody>\n",
       "    <tr>\n",
       "      <th>count</th>\n",
       "      <td>16446.000000</td>\n",
       "      <td>16715.000000</td>\n",
       "      <td>16715.000000</td>\n",
       "      <td>16715.000000</td>\n",
       "      <td>16715.000000</td>\n",
       "      <td>8137.000000</td>\n",
       "    </tr>\n",
       "    <tr>\n",
       "      <th>mean</th>\n",
       "      <td>2006.484616</td>\n",
       "      <td>0.263377</td>\n",
       "      <td>0.145060</td>\n",
       "      <td>0.077617</td>\n",
       "      <td>0.047342</td>\n",
       "      <td>68.967679</td>\n",
       "    </tr>\n",
       "    <tr>\n",
       "      <th>std</th>\n",
       "      <td>5.877050</td>\n",
       "      <td>0.813604</td>\n",
       "      <td>0.503339</td>\n",
       "      <td>0.308853</td>\n",
       "      <td>0.186731</td>\n",
       "      <td>13.938165</td>\n",
       "    </tr>\n",
       "    <tr>\n",
       "      <th>min</th>\n",
       "      <td>1980.000000</td>\n",
       "      <td>0.000000</td>\n",
       "      <td>0.000000</td>\n",
       "      <td>0.000000</td>\n",
       "      <td>0.000000</td>\n",
       "      <td>13.000000</td>\n",
       "    </tr>\n",
       "    <tr>\n",
       "      <th>25%</th>\n",
       "      <td>2003.000000</td>\n",
       "      <td>0.000000</td>\n",
       "      <td>0.000000</td>\n",
       "      <td>0.000000</td>\n",
       "      <td>0.000000</td>\n",
       "      <td>60.000000</td>\n",
       "    </tr>\n",
       "    <tr>\n",
       "      <th>50%</th>\n",
       "      <td>2007.000000</td>\n",
       "      <td>0.080000</td>\n",
       "      <td>0.020000</td>\n",
       "      <td>0.000000</td>\n",
       "      <td>0.010000</td>\n",
       "      <td>71.000000</td>\n",
       "    </tr>\n",
       "    <tr>\n",
       "      <th>75%</th>\n",
       "      <td>2010.000000</td>\n",
       "      <td>0.240000</td>\n",
       "      <td>0.110000</td>\n",
       "      <td>0.040000</td>\n",
       "      <td>0.030000</td>\n",
       "      <td>79.000000</td>\n",
       "    </tr>\n",
       "    <tr>\n",
       "      <th>max</th>\n",
       "      <td>2016.000000</td>\n",
       "      <td>41.360000</td>\n",
       "      <td>28.960000</td>\n",
       "      <td>10.220000</td>\n",
       "      <td>10.570000</td>\n",
       "      <td>98.000000</td>\n",
       "    </tr>\n",
       "  </tbody>\n",
       "</table>\n",
       "</div>"
      ],
      "text/plain": [
       "       Year_of_Release      NA_sales      EU_sales      JP_sales  \\\n",
       "count     16446.000000  16715.000000  16715.000000  16715.000000   \n",
       "mean       2006.484616      0.263377      0.145060      0.077617   \n",
       "std           5.877050      0.813604      0.503339      0.308853   \n",
       "min        1980.000000      0.000000      0.000000      0.000000   \n",
       "25%        2003.000000      0.000000      0.000000      0.000000   \n",
       "50%        2007.000000      0.080000      0.020000      0.000000   \n",
       "75%        2010.000000      0.240000      0.110000      0.040000   \n",
       "max        2016.000000     41.360000     28.960000     10.220000   \n",
       "\n",
       "        Other_sales  Critic_Score  \n",
       "count  16715.000000   8137.000000  \n",
       "mean       0.047342     68.967679  \n",
       "std        0.186731     13.938165  \n",
       "min        0.000000     13.000000  \n",
       "25%        0.000000     60.000000  \n",
       "50%        0.010000     71.000000  \n",
       "75%        0.030000     79.000000  \n",
       "max       10.570000     98.000000  "
      ]
     },
     "metadata": {},
     "output_type": "display_data"
    },
    {
     "data": {
      "image/png": "[encoded data removed]",
      "text/plain": [
       "<Figure size 504x576 with 6 Axes>"
      ]
     },
     "metadata": {
      "needs_background": "light"
     },
     "output_type": "display_data"
    }
   ],
   "source": [
    "display(data.describe())\n",
    "data.hist(figsize=(7, 8));\n"
   ]
  },
  {
   "cell_type": "markdown",
   "id": "7d694464",
   "metadata": {
    "lang": "en"
   },
   "source": [
    "<h2> Preprocessing </h2>"
   ]
  },
  {
   "cell_type": "code",
   "execution_count": 6,
   "id": "86caf364",
   "metadata": {},
   "outputs": [
    {
     "data": {
      "text/plain": [
       "0"
      ]
     },
     "execution_count": 6,
     "metadata": {},
     "output_type": "execute_result"
    }
   ],
   "source": [
    "data.duplicated().sum()"
   ]
  },
  {
   "cell_type": "markdown",
   "id": "f242dd22",
   "metadata": {
    "lang": "en"
   },
   "source": [
    "There are no obvious duplicates"
   ]
  },
  {
   "cell_type": "markdown",
   "id": "4e7d5c10",
   "metadata": {
    "lang": "en"
   },
   "source": [
    "Let's check for implicit duplicates"
   ]
  },
  {
   "cell_type": "code",
   "execution_count": 7,
   "id": "d702e9e8",
   "metadata": {},
   "outputs": [
    {
     "data": {
      "text/html": [
       "<div>\n",
       "<style scoped>\n",
       "    .dataframe tbody tr th:only-of-type {\n",
       "        vertical-align: middle;\n",
       "    }\n",
       "\n",
       "    .dataframe tbody tr th {\n",
       "        vertical-align: top;\n",
       "    }\n",
       "\n",
       "    .dataframe thead th {\n",
       "        text-align: right;\n",
       "    }\n",
       "</style>\n",
       "<table border=\"1\" class=\"dataframe\">\n",
       "  <thead>\n",
       "    <tr style=\"text-align: right;\">\n",
       "      <th></th>\n",
       "      <th>Name</th>\n",
       "      <th>Platform</th>\n",
       "      <th>Year_of_Release</th>\n",
       "      <th>Genre</th>\n",
       "      <th>NA_sales</th>\n",
       "      <th>EU_sales</th>\n",
       "      <th>JP_sales</th>\n",
       "      <th>Other_sales</th>\n",
       "      <th>Critic_Score</th>\n",
       "      <th>User_Score</th>\n",
       "      <th>Rating</th>\n",
       "    </tr>\n",
       "  </thead>\n",
       "  <tbody>\n",
       "    <tr>\n",
       "      <th>604</th>\n",
       "      <td>Madden NFL 13</td>\n",
       "      <td>PS3</td>\n",
       "      <td>2012.0</td>\n",
       "      <td>Sports</td>\n",
       "      <td>2.11</td>\n",
       "      <td>0.22</td>\n",
       "      <td>0.00</td>\n",
       "      <td>0.23</td>\n",
       "      <td>83.0</td>\n",
       "      <td>5.5</td>\n",
       "      <td>E</td>\n",
       "    </tr>\n",
       "    <tr>\n",
       "      <th>659</th>\n",
       "      <td>NaN</td>\n",
       "      <td>GEN</td>\n",
       "      <td>1993.0</td>\n",
       "      <td>NaN</td>\n",
       "      <td>1.78</td>\n",
       "      <td>0.53</td>\n",
       "      <td>0.00</td>\n",
       "      <td>0.08</td>\n",
       "      <td>NaN</td>\n",
       "      <td>NaN</td>\n",
       "      <td>NaN</td>\n",
       "    </tr>\n",
       "    <tr>\n",
       "      <th>1190</th>\n",
       "      <td>Need for Speed: Most Wanted</td>\n",
       "      <td>X360</td>\n",
       "      <td>2012.0</td>\n",
       "      <td>Racing</td>\n",
       "      <td>0.62</td>\n",
       "      <td>0.78</td>\n",
       "      <td>0.01</td>\n",
       "      <td>0.15</td>\n",
       "      <td>83.0</td>\n",
       "      <td>8.5</td>\n",
       "      <td>T</td>\n",
       "    </tr>\n",
       "    <tr>\n",
       "      <th>1591</th>\n",
       "      <td>Need for Speed: Most Wanted</td>\n",
       "      <td>X360</td>\n",
       "      <td>2005.0</td>\n",
       "      <td>Racing</td>\n",
       "      <td>1.00</td>\n",
       "      <td>0.13</td>\n",
       "      <td>0.02</td>\n",
       "      <td>0.10</td>\n",
       "      <td>83.0</td>\n",
       "      <td>8.5</td>\n",
       "      <td>T</td>\n",
       "    </tr>\n",
       "    <tr>\n",
       "      <th>1745</th>\n",
       "      <td>Sonic the Hedgehog</td>\n",
       "      <td>PS3</td>\n",
       "      <td>2006.0</td>\n",
       "      <td>Platform</td>\n",
       "      <td>0.41</td>\n",
       "      <td>0.06</td>\n",
       "      <td>0.04</td>\n",
       "      <td>0.66</td>\n",
       "      <td>43.0</td>\n",
       "      <td>4.1</td>\n",
       "      <td>E10+</td>\n",
       "    </tr>\n",
       "    <tr>\n",
       "      <th>4127</th>\n",
       "      <td>Sonic the Hedgehog</td>\n",
       "      <td>PS3</td>\n",
       "      <td>NaN</td>\n",
       "      <td>Platform</td>\n",
       "      <td>0.00</td>\n",
       "      <td>0.48</td>\n",
       "      <td>0.00</td>\n",
       "      <td>0.00</td>\n",
       "      <td>43.0</td>\n",
       "      <td>4.1</td>\n",
       "      <td>E10+</td>\n",
       "    </tr>\n",
       "    <tr>\n",
       "      <th>5972</th>\n",
       "      <td>Need for Speed: Most Wanted</td>\n",
       "      <td>PC</td>\n",
       "      <td>2005.0</td>\n",
       "      <td>Racing</td>\n",
       "      <td>0.02</td>\n",
       "      <td>0.23</td>\n",
       "      <td>0.00</td>\n",
       "      <td>0.04</td>\n",
       "      <td>82.0</td>\n",
       "      <td>8.5</td>\n",
       "      <td>T</td>\n",
       "    </tr>\n",
       "    <tr>\n",
       "      <th>11715</th>\n",
       "      <td>Need for Speed: Most Wanted</td>\n",
       "      <td>PC</td>\n",
       "      <td>2012.0</td>\n",
       "      <td>Racing</td>\n",
       "      <td>0.00</td>\n",
       "      <td>0.06</td>\n",
       "      <td>0.00</td>\n",
       "      <td>0.02</td>\n",
       "      <td>82.0</td>\n",
       "      <td>8.5</td>\n",
       "      <td>T</td>\n",
       "    </tr>\n",
       "    <tr>\n",
       "      <th>14244</th>\n",
       "      <td>NaN</td>\n",
       "      <td>GEN</td>\n",
       "      <td>1993.0</td>\n",
       "      <td>NaN</td>\n",
       "      <td>0.00</td>\n",
       "      <td>0.00</td>\n",
       "      <td>0.03</td>\n",
       "      <td>0.00</td>\n",
       "      <td>NaN</td>\n",
       "      <td>NaN</td>\n",
       "      <td>NaN</td>\n",
       "    </tr>\n",
       "    <tr>\n",
       "      <th>16230</th>\n",
       "      <td>Madden NFL 13</td>\n",
       "      <td>PS3</td>\n",
       "      <td>2012.0</td>\n",
       "      <td>Sports</td>\n",
       "      <td>0.00</td>\n",
       "      <td>0.01</td>\n",
       "      <td>0.00</td>\n",
       "      <td>0.00</td>\n",
       "      <td>83.0</td>\n",
       "      <td>5.5</td>\n",
       "      <td>E</td>\n",
       "    </tr>\n",
       "  </tbody>\n",
       "</table>\n",
       "</div>"
      ],
      "text/plain": [
       "                              Name Platform  Year_of_Release     Genre  \\\n",
       "604                  Madden NFL 13      PS3           2012.0    Sports   \n",
       "659                            NaN      GEN           1993.0       NaN   \n",
       "1190   Need for Speed: Most Wanted     X360           2012.0    Racing   \n",
       "1591   Need for Speed: Most Wanted     X360           2005.0    Racing   \n",
       "1745            Sonic the Hedgehog      PS3           2006.0  Platform   \n",
       "4127            Sonic the Hedgehog      PS3              NaN  Platform   \n",
       "5972   Need for Speed: Most Wanted       PC           2005.0    Racing   \n",
       "11715  Need for Speed: Most Wanted       PC           2012.0    Racing   \n",
       "14244                          NaN      GEN           1993.0       NaN   \n",
       "16230                Madden NFL 13      PS3           2012.0    Sports   \n",
       "\n",
       "       NA_sales  EU_sales  JP_sales  Other_sales  Critic_Score User_Score  \\\n",
       "604        2.11      0.22      0.00         0.23          83.0        5.5   \n",
       "659        1.78      0.53      0.00         0.08           NaN        NaN   \n",
       "1190       0.62      0.78      0.01         0.15          83.0        8.5   \n",
       "1591       1.00      0.13      0.02         0.10          83.0        8.5   \n",
       "1745       0.41      0.06      0.04         0.66          43.0        4.1   \n",
       "4127       0.00      0.48      0.00         0.00          43.0        4.1   \n",
       "5972       0.02      0.23      0.00         0.04          82.0        8.5   \n",
       "11715      0.00      0.06      0.00         0.02          82.0        8.5   \n",
       "14244      0.00      0.00      0.03         0.00           NaN        NaN   \n",
       "16230      0.00      0.01      0.00         0.00          83.0        5.5   \n",
       "\n",
       "      Rating  \n",
       "604        E  \n",
       "659      NaN  \n",
       "1190       T  \n",
       "1591       T  \n",
       "1745    E10+  \n",
       "4127    E10+  \n",
       "5972       T  \n",
       "11715      T  \n",
       "14244    NaN  \n",
       "16230      E  "
      ]
     },
     "execution_count": 7,
     "metadata": {},
     "output_type": "execute_result"
    }
   ],
   "source": [
    "data[data.duplicated(subset = ['Name', 'Platform'], keep = False)]"
   ]
  },
  {
   "cell_type": "markdown",
   "id": "774ea768",
   "metadata": {
    "lang": "en"
   },
   "source": [
    "Lines where the name of the game or the year of release are omitted will be deleted in the future, so we will not pay attention to them now. As for the Need for Speed ​​series, these are not duplicates, but cross-platform games of the same name, released in different years. The only game left is Madden NFL 13. It is duplicated in everything except sales. Let's delete the copy from the table."
   ]
  },
  {
   "cell_type": "code",
   "execution_count": 8,
   "id": "213ae10c",
   "metadata": {},
   "outputs": [],
   "source": [
    "data = data.drop(index = 16230)"
   ]
  },
  {
   "cell_type": "markdown",
   "id": "6ef9a0c4",
   "metadata": {
    "lang": "en"
   },
   "source": [
    "<h3> Rename </h3>"
   ]
  },
  {
   "cell_type": "code",
   "execution_count": 9,
   "id": "fe022f1e",
   "metadata": {},
   "outputs": [],
   "source": [
    "columnns_to_rename = ['Name', 'Platform', 'Year_of_Release', 'Genre', 'Other_sales', 'Critic_Score', 'User_Score', 'Rating']\n",
    "for column in columnns_to_rename:\n",
    "    data = data.rename(columns = {column : column.lower()})"
   ]
  },
  {
   "cell_type": "code",
   "execution_count": 10,
   "id": "82b70c83",
   "metadata": {},
   "outputs": [
    {
     "data": {
      "text/plain": [
       "Index(['name', 'platform', 'year_of_release', 'genre', 'NA_sales', 'EU_sales',\n",
       "       'JP_sales', 'other_sales', 'critic_score', 'user_score', 'rating'],\n",
       "      dtype='object')"
      ]
     },
     "execution_count": 10,
     "metadata": {},
     "output_type": "execute_result"
    }
   ],
   "source": [
    "data.columns"
   ]
  },
  {
   "cell_type": "markdown",
   "id": "08d05d38",
   "metadata": {
    "lang": "en"
   },
   "source": [
    "<ul>\n",
    "    <span style=\"color:green\">\n",
    "        <li> name ✔️</li>\n",
    "        <li> platform ✔️ </li>\n",
    "    </span><span style=\"color:red\">\n",
    "        <li> year_of_release (change of data type)</li>\n",
    "    </span><span style=\"color:green\">\n",
    "        <li> genre ✔️ </li>\n",
    "    </span><span style=\"color:green\">\n",
    "        <li> NA_sales ✔️ </li>\n",
    "        <li> EU_sales ✔️ </li>\n",
    "        <li> JP_sales ✔️ </li>\n",
    "        <li> other_sales ✔️ </li>\n",
    "        </span><span style=\"color:red\">\n",
    "        <li> critic_Score (see how to fill in the blanks) </li>\n",
    "        <li> user_Score (see how to fill in the blanks + change the data type) </li>\n",
    "    </span><span style=\"color:green\">\n",
    "        <li> rating ✔️ </li>\n",
    "    </span>\n",
    "</ul>"
   ]
  },
  {
   "cell_type": "markdown",
   "id": "2ba7a996",
   "metadata": {
    "lang": "en"
   },
   "source": [
    "<h3> Change data types </h3>"
   ]
  },
  {
   "cell_type": "code",
   "execution_count": 11,
   "id": "75acee0b",
   "metadata": {},
   "outputs": [],
   "source": [
    "columnns_to_type_change = ['year_of_release',  'user_score']"
   ]
  },
  {
   "cell_type": "code",
   "execution_count": 12,
   "id": "ed904ef8",
   "metadata": {},
   "outputs": [
    {
     "data": {
      "text/plain": [
       "array(['8', nan, '8.3', '8.5', '6.6', '8.4', '8.6', '7.7', '6.3', '7.4',\n",
       "       '8.2', '9', '7.9', '8.1', '8.7', '7.1', '3.4', '5.3', '4.8', '3.2',\n",
       "       '8.9', '6.4', '7.8', '7.5', '2.6', '7.2', '9.2', '7', '7.3', '4.3',\n",
       "       '7.6', '5.7', '5', '9.1', '6.5', 'tbd', '8.8', '6.9', '9.4', '6.8',\n",
       "       '6.1', '6.7', '5.4', '4', '4.9', '4.5', '9.3', '6.2', '4.2', '6',\n",
       "       '3.7', '4.1', '5.8', '5.6', '5.5', '4.4', '4.6', '5.9', '3.9',\n",
       "       '3.1', '2.9', '5.2', '3.3', '4.7', '5.1', '3.5', '2.5', '1.9', '3',\n",
       "       '2.7', '2.2', '2', '9.5', '2.1', '3.6', '2.8', '1.8', '3.8', '0',\n",
       "       '1.6', '9.6', '2.4', '1.7', '1.1', '0.3', '1.5', '0.7', '1.2',\n",
       "       '2.3', '0.5', '1.3', '0.2', '0.6', '1.4', '0.9', '1', '9.7'],\n",
       "      dtype=object)"
      ]
     },
     "execution_count": 12,
     "metadata": {},
     "output_type": "execute_result"
    }
   ],
   "source": [
    "data.user_score.unique()"
   ]
  },
  {
   "cell_type": "code",
   "execution_count": 13,
   "id": "6c68861a",
   "metadata": {},
   "outputs": [
    {
     "data": {
      "text/html": [
       "<div>\n",
       "<style scoped>\n",
       "    .dataframe tbody tr th:only-of-type {\n",
       "        vertical-align: middle;\n",
       "    }\n",
       "\n",
       "    .dataframe tbody tr th {\n",
       "        vertical-align: top;\n",
       "    }\n",
       "\n",
       "    .dataframe thead th {\n",
       "        text-align: right;\n",
       "    }\n",
       "</style>\n",
       "<table border=\"1\" class=\"dataframe\">\n",
       "  <thead>\n",
       "    <tr style=\"text-align: right;\">\n",
       "      <th></th>\n",
       "      <th>name</th>\n",
       "      <th>platform</th>\n",
       "      <th>year_of_release</th>\n",
       "      <th>genre</th>\n",
       "      <th>NA_sales</th>\n",
       "      <th>EU_sales</th>\n",
       "      <th>JP_sales</th>\n",
       "      <th>other_sales</th>\n",
       "      <th>critic_score</th>\n",
       "      <th>user_score</th>\n",
       "      <th>rating</th>\n",
       "    </tr>\n",
       "  </thead>\n",
       "  <tbody>\n",
       "    <tr>\n",
       "      <th>119</th>\n",
       "      <td>Zumba Fitness</td>\n",
       "      <td>Wii</td>\n",
       "      <td>2010.0</td>\n",
       "      <td>Sports</td>\n",
       "      <td>3.45</td>\n",
       "      <td>2.59</td>\n",
       "      <td>0.0</td>\n",
       "      <td>0.66</td>\n",
       "      <td>NaN</td>\n",
       "      <td>tbd</td>\n",
       "      <td>E</td>\n",
       "    </tr>\n",
       "    <tr>\n",
       "      <th>301</th>\n",
       "      <td>Namco Museum: 50th Anniversary</td>\n",
       "      <td>PS2</td>\n",
       "      <td>2005.0</td>\n",
       "      <td>Misc</td>\n",
       "      <td>2.08</td>\n",
       "      <td>1.35</td>\n",
       "      <td>0.0</td>\n",
       "      <td>0.54</td>\n",
       "      <td>61.0</td>\n",
       "      <td>tbd</td>\n",
       "      <td>E10+</td>\n",
       "    </tr>\n",
       "    <tr>\n",
       "      <th>520</th>\n",
       "      <td>Zumba Fitness 2</td>\n",
       "      <td>Wii</td>\n",
       "      <td>2011.0</td>\n",
       "      <td>Sports</td>\n",
       "      <td>1.51</td>\n",
       "      <td>1.03</td>\n",
       "      <td>0.0</td>\n",
       "      <td>0.27</td>\n",
       "      <td>NaN</td>\n",
       "      <td>tbd</td>\n",
       "      <td>T</td>\n",
       "    </tr>\n",
       "    <tr>\n",
       "      <th>645</th>\n",
       "      <td>uDraw Studio</td>\n",
       "      <td>Wii</td>\n",
       "      <td>2010.0</td>\n",
       "      <td>Misc</td>\n",
       "      <td>1.65</td>\n",
       "      <td>0.57</td>\n",
       "      <td>0.0</td>\n",
       "      <td>0.20</td>\n",
       "      <td>71.0</td>\n",
       "      <td>tbd</td>\n",
       "      <td>E</td>\n",
       "    </tr>\n",
       "    <tr>\n",
       "      <th>657</th>\n",
       "      <td>Frogger's Adventures: Temple of the Frog</td>\n",
       "      <td>GBA</td>\n",
       "      <td>NaN</td>\n",
       "      <td>Adventure</td>\n",
       "      <td>2.15</td>\n",
       "      <td>0.18</td>\n",
       "      <td>0.0</td>\n",
       "      <td>0.07</td>\n",
       "      <td>73.0</td>\n",
       "      <td>tbd</td>\n",
       "      <td>E</td>\n",
       "    </tr>\n",
       "    <tr>\n",
       "      <th>...</th>\n",
       "      <td>...</td>\n",
       "      <td>...</td>\n",
       "      <td>...</td>\n",
       "      <td>...</td>\n",
       "      <td>...</td>\n",
       "      <td>...</td>\n",
       "      <td>...</td>\n",
       "      <td>...</td>\n",
       "      <td>...</td>\n",
       "      <td>...</td>\n",
       "      <td>...</td>\n",
       "    </tr>\n",
       "    <tr>\n",
       "      <th>16695</th>\n",
       "      <td>Planet Monsters</td>\n",
       "      <td>GBA</td>\n",
       "      <td>2001.0</td>\n",
       "      <td>Action</td>\n",
       "      <td>0.01</td>\n",
       "      <td>0.00</td>\n",
       "      <td>0.0</td>\n",
       "      <td>0.00</td>\n",
       "      <td>67.0</td>\n",
       "      <td>tbd</td>\n",
       "      <td>E</td>\n",
       "    </tr>\n",
       "    <tr>\n",
       "      <th>16697</th>\n",
       "      <td>Bust-A-Move 3000</td>\n",
       "      <td>GC</td>\n",
       "      <td>2003.0</td>\n",
       "      <td>Puzzle</td>\n",
       "      <td>0.01</td>\n",
       "      <td>0.00</td>\n",
       "      <td>0.0</td>\n",
       "      <td>0.00</td>\n",
       "      <td>53.0</td>\n",
       "      <td>tbd</td>\n",
       "      <td>E</td>\n",
       "    </tr>\n",
       "    <tr>\n",
       "      <th>16698</th>\n",
       "      <td>Mega Brain Boost</td>\n",
       "      <td>DS</td>\n",
       "      <td>2008.0</td>\n",
       "      <td>Puzzle</td>\n",
       "      <td>0.01</td>\n",
       "      <td>0.00</td>\n",
       "      <td>0.0</td>\n",
       "      <td>0.00</td>\n",
       "      <td>48.0</td>\n",
       "      <td>tbd</td>\n",
       "      <td>E</td>\n",
       "    </tr>\n",
       "    <tr>\n",
       "      <th>16704</th>\n",
       "      <td>Plushees</td>\n",
       "      <td>DS</td>\n",
       "      <td>2008.0</td>\n",
       "      <td>Simulation</td>\n",
       "      <td>0.01</td>\n",
       "      <td>0.00</td>\n",
       "      <td>0.0</td>\n",
       "      <td>0.00</td>\n",
       "      <td>NaN</td>\n",
       "      <td>tbd</td>\n",
       "      <td>E</td>\n",
       "    </tr>\n",
       "    <tr>\n",
       "      <th>16706</th>\n",
       "      <td>Men in Black II: Alien Escape</td>\n",
       "      <td>GC</td>\n",
       "      <td>2003.0</td>\n",
       "      <td>Shooter</td>\n",
       "      <td>0.01</td>\n",
       "      <td>0.00</td>\n",
       "      <td>0.0</td>\n",
       "      <td>0.00</td>\n",
       "      <td>NaN</td>\n",
       "      <td>tbd</td>\n",
       "      <td>T</td>\n",
       "    </tr>\n",
       "  </tbody>\n",
       "</table>\n",
       "<p>2424 rows × 11 columns</p>\n",
       "</div>"
      ],
      "text/plain": [
       "                                           name platform  year_of_release  \\\n",
       "119                               Zumba Fitness      Wii           2010.0   \n",
       "301              Namco Museum: 50th Anniversary      PS2           2005.0   \n",
       "520                             Zumba Fitness 2      Wii           2011.0   \n",
       "645                                uDraw Studio      Wii           2010.0   \n",
       "657    Frogger's Adventures: Temple of the Frog      GBA              NaN   \n",
       "...                                         ...      ...              ...   \n",
       "16695                           Planet Monsters      GBA           2001.0   \n",
       "16697                          Bust-A-Move 3000       GC           2003.0   \n",
       "16698                          Mega Brain Boost       DS           2008.0   \n",
       "16704                                  Plushees       DS           2008.0   \n",
       "16706             Men in Black II: Alien Escape       GC           2003.0   \n",
       "\n",
       "            genre  NA_sales  EU_sales  JP_sales  other_sales  critic_score  \\\n",
       "119        Sports      3.45      2.59       0.0         0.66           NaN   \n",
       "301          Misc      2.08      1.35       0.0         0.54          61.0   \n",
       "520        Sports      1.51      1.03       0.0         0.27           NaN   \n",
       "645          Misc      1.65      0.57       0.0         0.20          71.0   \n",
       "657     Adventure      2.15      0.18       0.0         0.07          73.0   \n",
       "...           ...       ...       ...       ...          ...           ...   \n",
       "16695      Action      0.01      0.00       0.0         0.00          67.0   \n",
       "16697      Puzzle      0.01      0.00       0.0         0.00          53.0   \n",
       "16698      Puzzle      0.01      0.00       0.0         0.00          48.0   \n",
       "16704  Simulation      0.01      0.00       0.0         0.00           NaN   \n",
       "16706     Shooter      0.01      0.00       0.0         0.00           NaN   \n",
       "\n",
       "      user_score rating  \n",
       "119          tbd      E  \n",
       "301          tbd   E10+  \n",
       "520          tbd      T  \n",
       "645          tbd      E  \n",
       "657          tbd      E  \n",
       "...          ...    ...  \n",
       "16695        tbd      E  \n",
       "16697        tbd      E  \n",
       "16698        tbd      E  \n",
       "16704        tbd      E  \n",
       "16706        tbd      T  \n",
       "\n",
       "[2424 rows x 11 columns]"
      ]
     },
     "execution_count": 13,
     "metadata": {},
     "output_type": "execute_result"
    }
   ],
   "source": [
    "data.query('user_score == \"tbd\"')"
   ]
  },
  {
   "cell_type": "markdown",
   "id": "762950e1",
   "metadata": {},
   "source": [
    "tbd = to be determined (= Nan)"
   ]
  },
  {
   "cell_type": "code",
   "execution_count": 14,
   "id": "dbc5ea82",
   "metadata": {},
   "outputs": [
    {
     "data": {
      "text/plain": [
       "array(['8', nan, '8.3', '8.5', '6.6', '8.4', '8.6', '7.7', '6.3', '7.4',\n",
       "       '8.2', '9', '7.9', '8.1', '8.7', '7.1', '3.4', '5.3', '4.8', '3.2',\n",
       "       '8.9', '6.4', '7.8', '7.5', '2.6', '7.2', '9.2', '7', '7.3', '4.3',\n",
       "       '7.6', '5.7', '5', '9.1', '6.5', '8.8', '6.9', '9.4', '6.8', '6.1',\n",
       "       '6.7', '5.4', '4', '4.9', '4.5', '9.3', '6.2', '4.2', '6', '3.7',\n",
       "       '4.1', '5.8', '5.6', '5.5', '4.4', '4.6', '5.9', '3.9', '3.1',\n",
       "       '2.9', '5.2', '3.3', '4.7', '5.1', '3.5', '2.5', '1.9', '3', '2.7',\n",
       "       '2.2', '2', '9.5', '2.1', '3.6', '2.8', '1.8', '3.8', '0', '1.6',\n",
       "       '9.6', '2.4', '1.7', '1.1', '0.3', '1.5', '0.7', '1.2', '2.3',\n",
       "       '0.5', '1.3', '0.2', '0.6', '1.4', '0.9', '1', '9.7'], dtype=object)"
      ]
     },
     "execution_count": 14,
     "metadata": {},
     "output_type": "execute_result"
    }
   ],
   "source": [
    "data.loc[data['user_score'] == 'tbd', 'user_score'] = np.NaN\n",
    "data.user_score.unique()"
   ]
  },
  {
   "cell_type": "code",
   "execution_count": 15,
   "id": "83206cbb",
   "metadata": {},
   "outputs": [
    {
     "data": {
      "text/plain": [
       "0    8.0\n",
       "2    8.3\n",
       "3    8.0\n",
       "6    8.5\n",
       "7    6.6\n",
       "Name: user_score, dtype: float64"
      ]
     },
     "execution_count": 15,
     "metadata": {},
     "output_type": "execute_result"
    }
   ],
   "source": [
    "num_user_score = data.user_score.dropna().astype('float')\n",
    "num_user_score.head()"
   ]
  },
  {
   "cell_type": "code",
   "execution_count": 16,
   "id": "3419ccce",
   "metadata": {},
   "outputs": [
    {
     "data": {
      "text/html": [
       "<div>\n",
       "<style scoped>\n",
       "    .dataframe tbody tr th:only-of-type {\n",
       "        vertical-align: middle;\n",
       "    }\n",
       "\n",
       "    .dataframe tbody tr th {\n",
       "        vertical-align: top;\n",
       "    }\n",
       "\n",
       "    .dataframe thead th {\n",
       "        text-align: right;\n",
       "    }\n",
       "</style>\n",
       "<table border=\"1\" class=\"dataframe\">\n",
       "  <thead>\n",
       "    <tr style=\"text-align: right;\">\n",
       "      <th></th>\n",
       "      <th>year_of_release</th>\n",
       "      <th>NA_sales</th>\n",
       "      <th>EU_sales</th>\n",
       "      <th>JP_sales</th>\n",
       "      <th>other_sales</th>\n",
       "      <th>critic_score</th>\n",
       "      <th>num_user_score</th>\n",
       "    </tr>\n",
       "  </thead>\n",
       "  <tbody>\n",
       "    <tr>\n",
       "      <th>year_of_release</th>\n",
       "      <td>1.000000</td>\n",
       "      <td>-0.092485</td>\n",
       "      <td>0.003993</td>\n",
       "      <td>-0.168357</td>\n",
       "      <td>0.037836</td>\n",
       "      <td>0.011268</td>\n",
       "      <td>-0.267745</td>\n",
       "    </tr>\n",
       "    <tr>\n",
       "      <th>NA_sales</th>\n",
       "      <td>-0.092485</td>\n",
       "      <td>1.000000</td>\n",
       "      <td>0.765334</td>\n",
       "      <td>0.449591</td>\n",
       "      <td>0.638648</td>\n",
       "      <td>0.240821</td>\n",
       "      <td>0.086150</td>\n",
       "    </tr>\n",
       "    <tr>\n",
       "      <th>EU_sales</th>\n",
       "      <td>0.003993</td>\n",
       "      <td>0.765334</td>\n",
       "      <td>1.000000</td>\n",
       "      <td>0.435059</td>\n",
       "      <td>0.722791</td>\n",
       "      <td>0.220805</td>\n",
       "      <td>0.055295</td>\n",
       "    </tr>\n",
       "    <tr>\n",
       "      <th>JP_sales</th>\n",
       "      <td>-0.168357</td>\n",
       "      <td>0.449591</td>\n",
       "      <td>0.435059</td>\n",
       "      <td>1.000000</td>\n",
       "      <td>0.291086</td>\n",
       "      <td>0.152629</td>\n",
       "      <td>0.125577</td>\n",
       "    </tr>\n",
       "    <tr>\n",
       "      <th>other_sales</th>\n",
       "      <td>0.037836</td>\n",
       "      <td>0.638648</td>\n",
       "      <td>0.722791</td>\n",
       "      <td>0.291086</td>\n",
       "      <td>1.000000</td>\n",
       "      <td>0.198603</td>\n",
       "      <td>0.057080</td>\n",
       "    </tr>\n",
       "    <tr>\n",
       "      <th>critic_score</th>\n",
       "      <td>0.011268</td>\n",
       "      <td>0.240821</td>\n",
       "      <td>0.220805</td>\n",
       "      <td>0.152629</td>\n",
       "      <td>0.198603</td>\n",
       "      <td>1.000000</td>\n",
       "      <td>0.581122</td>\n",
       "    </tr>\n",
       "    <tr>\n",
       "      <th>num_user_score</th>\n",
       "      <td>-0.267745</td>\n",
       "      <td>0.086150</td>\n",
       "      <td>0.055295</td>\n",
       "      <td>0.125577</td>\n",
       "      <td>0.057080</td>\n",
       "      <td>0.581122</td>\n",
       "      <td>1.000000</td>\n",
       "    </tr>\n",
       "  </tbody>\n",
       "</table>\n",
       "</div>"
      ],
      "text/plain": [
       "                 year_of_release  NA_sales  EU_sales  JP_sales  other_sales  \\\n",
       "year_of_release         1.000000 -0.092485  0.003993 -0.168357     0.037836   \n",
       "NA_sales               -0.092485  1.000000  0.765334  0.449591     0.638648   \n",
       "EU_sales                0.003993  0.765334  1.000000  0.435059     0.722791   \n",
       "JP_sales               -0.168357  0.449591  0.435059  1.000000     0.291086   \n",
       "other_sales             0.037836  0.638648  0.722791  0.291086     1.000000   \n",
       "critic_score            0.011268  0.240821  0.220805  0.152629     0.198603   \n",
       "num_user_score         -0.267745  0.086150  0.055295  0.125577     0.057080   \n",
       "\n",
       "                 critic_score  num_user_score  \n",
       "year_of_release      0.011268       -0.267745  \n",
       "NA_sales             0.240821        0.086150  \n",
       "EU_sales             0.220805        0.055295  \n",
       "JP_sales             0.152629        0.125577  \n",
       "other_sales          0.198603        0.057080  \n",
       "critic_score         1.000000        0.581122  \n",
       "num_user_score       0.581122        1.000000  "
      ]
     },
     "execution_count": 16,
     "metadata": {},
     "output_type": "execute_result"
    }
   ],
   "source": [
    "data['num_user_score'] = num_user_score\n",
    "data.corr()"
   ]
  },
  {
   "cell_type": "markdown",
   "id": "e119ae90",
   "metadata": {
    "lang": "en"
   },
   "source": [
    "After looking at the relationship of the `num_user_score` column with other values, we could not find a way to handle the gaps. We'll have to leave it as it is."
   ]
  },
  {
   "cell_type": "code",
   "execution_count": 17,
   "id": "4aa6bc8d",
   "metadata": {},
   "outputs": [
    {
     "data": {
      "text/html": [
       "<div>\n",
       "<style scoped>\n",
       "    .dataframe tbody tr th:only-of-type {\n",
       "        vertical-align: middle;\n",
       "    }\n",
       "\n",
       "    .dataframe tbody tr th {\n",
       "        vertical-align: top;\n",
       "    }\n",
       "\n",
       "    .dataframe thead th {\n",
       "        text-align: right;\n",
       "    }\n",
       "</style>\n",
       "<table border=\"1\" class=\"dataframe\">\n",
       "  <thead>\n",
       "    <tr style=\"text-align: right;\">\n",
       "      <th></th>\n",
       "      <th>name</th>\n",
       "      <th>platform</th>\n",
       "      <th>year_of_release</th>\n",
       "      <th>genre</th>\n",
       "      <th>NA_sales</th>\n",
       "      <th>EU_sales</th>\n",
       "      <th>JP_sales</th>\n",
       "      <th>other_sales</th>\n",
       "      <th>critic_score</th>\n",
       "      <th>user_score</th>\n",
       "      <th>rating</th>\n",
       "    </tr>\n",
       "  </thead>\n",
       "  <tbody>\n",
       "    <tr>\n",
       "      <th>0</th>\n",
       "      <td>Wii Sports</td>\n",
       "      <td>Wii</td>\n",
       "      <td>2006.0</td>\n",
       "      <td>Sports</td>\n",
       "      <td>41.36</td>\n",
       "      <td>28.96</td>\n",
       "      <td>3.77</td>\n",
       "      <td>8.45</td>\n",
       "      <td>76.0</td>\n",
       "      <td>8</td>\n",
       "      <td>E</td>\n",
       "    </tr>\n",
       "    <tr>\n",
       "      <th>1</th>\n",
       "      <td>Super Mario Bros.</td>\n",
       "      <td>NES</td>\n",
       "      <td>1985.0</td>\n",
       "      <td>Platform</td>\n",
       "      <td>29.08</td>\n",
       "      <td>3.58</td>\n",
       "      <td>6.81</td>\n",
       "      <td>0.77</td>\n",
       "      <td>NaN</td>\n",
       "      <td>NaN</td>\n",
       "      <td>NaN</td>\n",
       "    </tr>\n",
       "    <tr>\n",
       "      <th>2</th>\n",
       "      <td>Mario Kart Wii</td>\n",
       "      <td>Wii</td>\n",
       "      <td>2008.0</td>\n",
       "      <td>Racing</td>\n",
       "      <td>15.68</td>\n",
       "      <td>12.76</td>\n",
       "      <td>3.79</td>\n",
       "      <td>3.29</td>\n",
       "      <td>82.0</td>\n",
       "      <td>8.3</td>\n",
       "      <td>E</td>\n",
       "    </tr>\n",
       "    <tr>\n",
       "      <th>3</th>\n",
       "      <td>Wii Sports Resort</td>\n",
       "      <td>Wii</td>\n",
       "      <td>2009.0</td>\n",
       "      <td>Sports</td>\n",
       "      <td>15.61</td>\n",
       "      <td>10.93</td>\n",
       "      <td>3.28</td>\n",
       "      <td>2.95</td>\n",
       "      <td>80.0</td>\n",
       "      <td>8</td>\n",
       "      <td>E</td>\n",
       "    </tr>\n",
       "    <tr>\n",
       "      <th>4</th>\n",
       "      <td>Pokemon Red/Pokemon Blue</td>\n",
       "      <td>GB</td>\n",
       "      <td>1996.0</td>\n",
       "      <td>Role-Playing</td>\n",
       "      <td>11.27</td>\n",
       "      <td>8.89</td>\n",
       "      <td>10.22</td>\n",
       "      <td>1.00</td>\n",
       "      <td>NaN</td>\n",
       "      <td>NaN</td>\n",
       "      <td>NaN</td>\n",
       "    </tr>\n",
       "  </tbody>\n",
       "</table>\n",
       "</div>"
      ],
      "text/plain": [
       "                       name platform  year_of_release         genre  NA_sales  \\\n",
       "0                Wii Sports      Wii           2006.0        Sports     41.36   \n",
       "1         Super Mario Bros.      NES           1985.0      Platform     29.08   \n",
       "2            Mario Kart Wii      Wii           2008.0        Racing     15.68   \n",
       "3         Wii Sports Resort      Wii           2009.0        Sports     15.61   \n",
       "4  Pokemon Red/Pokemon Blue       GB           1996.0  Role-Playing     11.27   \n",
       "\n",
       "   EU_sales  JP_sales  other_sales  critic_score user_score rating  \n",
       "0     28.96      3.77         8.45          76.0          8      E  \n",
       "1      3.58      6.81         0.77           NaN        NaN    NaN  \n",
       "2     12.76      3.79         3.29          82.0        8.3      E  \n",
       "3     10.93      3.28         2.95          80.0          8      E  \n",
       "4      8.89     10.22         1.00           NaN        NaN    NaN  "
      ]
     },
     "execution_count": 17,
     "metadata": {},
     "output_type": "execute_result"
    }
   ],
   "source": [
    "data = data.drop(columns = ['num_user_score'])\n",
    "data.head()"
   ]
  },
  {
   "cell_type": "code",
   "execution_count": 18,
   "id": "afeec62b",
   "metadata": {},
   "outputs": [
    {
     "name": "stdout",
     "output_type": "stream",
     "text": [
      "<class 'pandas.core.frame.DataFrame'>\n",
      "Int64Index: 16714 entries, 0 to 16714\n",
      "Data columns (total 11 columns):\n",
      " #   Column           Non-Null Count  Dtype  \n",
      "---  ------           --------------  -----  \n",
      " 0   name             16712 non-null  object \n",
      " 1   platform         16714 non-null  object \n",
      " 2   year_of_release  16445 non-null  float64\n",
      " 3   genre            16712 non-null  object \n",
      " 4   NA_sales         16714 non-null  float64\n",
      " 5   EU_sales         16714 non-null  float64\n",
      " 6   JP_sales         16714 non-null  float64\n",
      " 7   other_sales      16714 non-null  float64\n",
      " 8   critic_score     8136 non-null   float64\n",
      " 9   user_score       7589 non-null   object \n",
      " 10  rating           9948 non-null   object \n",
      "dtypes: float64(6), object(5)\n",
      "memory usage: 1.5+ MB\n"
     ]
    }
   ],
   "source": [
    "data.info()"
   ]
  },
  {
   "cell_type": "markdown",
   "id": "a6541e82",
   "metadata": {
    "lang": "en"
   },
   "source": [
    "<ul>\n",
    "    <span style=\"color:green\">\n",
    "        <li> name ✔️</li>\n",
    "        <li> platform ✔️ </li>\n",
    "    </span><span style=\"color:red\">\n",
    "        <li> year_of_release (change of data type)</li>\n",
    "    </span><span style=\"color:green\">\n",
    "        <li> genre ✔️ </li>\n",
    "    </span><span style=\"color:green\">\n",
    "        <li> NA_sales ✔️ </li>\n",
    "        <li> EU_sales ✔️ </li>\n",
    "        <li> JP_sales ✔️ </li>\n",
    "        <li> other_sales ✔️ </li>\n",
    "        <li> critic_Score ✔️ </li>\n",
    "        <li> user_Score ✔️ </li>\n",
    "    </span><span style=\"color:green\">\n",
    "        <li> rating ✔️ </li>\n",
    "    </span>\n",
    "</ul>"
   ]
  },
  {
   "cell_type": "code",
   "execution_count": 19,
   "id": "3ccc0dd7",
   "metadata": {},
   "outputs": [],
   "source": [
    "data = data.dropna(subset = [\"year_of_release\"])\n",
    "data = data.reset_index(drop = True)"
   ]
  },
  {
   "cell_type": "code",
   "execution_count": 20,
   "id": "94ea12bf",
   "metadata": {},
   "outputs": [],
   "source": [
    "data.year_of_release = data.year_of_release.astype('int')\n",
    "data.user_score = data.user_score.astype('float')"
   ]
  },
  {
   "cell_type": "markdown",
   "id": "9fb9eb02",
   "metadata": {},
   "source": [
    "<ul>\n",
    "    <span style=\"color:green\">\n",
    "        <li> name  ✔️</li>           \n",
    "        <li> platform  ✔️ </li>      \n",
    "        <li> year_of_release ✔️</li> \n",
    "    </span><span style=\"color:green\">    \n",
    "        <li> genre ✔️  </li>\n",
    "    </span><span style=\"color:green\">    \n",
    "        <li> NA_sales  ✔️       </li>\n",
    "        <li> EU_sales   ✔️       </li>\n",
    "        <li> JP_sales     ✔️     </li>\n",
    "        <li> other_sales      ✔️  </li>\n",
    "        <li> critic_Score    ✔️   </li>\n",
    "        <li> user_Score      ✔️  </li>\n",
    "    </span><span style=\"color:green\">     \n",
    "        <li> rating          ✔️     </li>\n",
    "    </span>\n",
    "</ul>"
   ]
  },
  {
   "cell_type": "code",
   "execution_count": 21,
   "id": "f2aa2fe1",
   "metadata": {
    "scrolled": true
   },
   "outputs": [
    {
     "data": {
      "text/html": [
       "<div>\n",
       "<style scoped>\n",
       "    .dataframe tbody tr th:only-of-type {\n",
       "        vertical-align: middle;\n",
       "    }\n",
       "\n",
       "    .dataframe tbody tr th {\n",
       "        vertical-align: top;\n",
       "    }\n",
       "\n",
       "    .dataframe thead th {\n",
       "        text-align: right;\n",
       "    }\n",
       "</style>\n",
       "<table border=\"1\" class=\"dataframe\">\n",
       "  <thead>\n",
       "    <tr style=\"text-align: right;\">\n",
       "      <th></th>\n",
       "      <th>name</th>\n",
       "      <th>platform</th>\n",
       "      <th>year_of_release</th>\n",
       "      <th>genre</th>\n",
       "      <th>NA_sales</th>\n",
       "      <th>EU_sales</th>\n",
       "      <th>JP_sales</th>\n",
       "      <th>other_sales</th>\n",
       "      <th>critic_score</th>\n",
       "      <th>user_score</th>\n",
       "      <th>rating</th>\n",
       "    </tr>\n",
       "  </thead>\n",
       "  <tbody>\n",
       "    <tr>\n",
       "      <th>652</th>\n",
       "      <td>NaN</td>\n",
       "      <td>GEN</td>\n",
       "      <td>1993</td>\n",
       "      <td>NaN</td>\n",
       "      <td>1.78</td>\n",
       "      <td>0.53</td>\n",
       "      <td>0.00</td>\n",
       "      <td>0.08</td>\n",
       "      <td>NaN</td>\n",
       "      <td>NaN</td>\n",
       "      <td>NaN</td>\n",
       "    </tr>\n",
       "    <tr>\n",
       "      <th>14022</th>\n",
       "      <td>NaN</td>\n",
       "      <td>GEN</td>\n",
       "      <td>1993</td>\n",
       "      <td>NaN</td>\n",
       "      <td>0.00</td>\n",
       "      <td>0.00</td>\n",
       "      <td>0.03</td>\n",
       "      <td>0.00</td>\n",
       "      <td>NaN</td>\n",
       "      <td>NaN</td>\n",
       "      <td>NaN</td>\n",
       "    </tr>\n",
       "  </tbody>\n",
       "</table>\n",
       "</div>"
      ],
      "text/plain": [
       "      name platform  year_of_release genre  NA_sales  EU_sales  JP_sales  \\\n",
       "652    NaN      GEN             1993   NaN      1.78      0.53      0.00   \n",
       "14022  NaN      GEN             1993   NaN      0.00      0.00      0.03   \n",
       "\n",
       "       other_sales  critic_score  user_score rating  \n",
       "652           0.08           NaN         NaN    NaN  \n",
       "14022         0.00           NaN         NaN    NaN  "
      ]
     },
     "execution_count": 21,
     "metadata": {},
     "output_type": "execute_result"
    }
   ],
   "source": [
    "data.loc[data.name.isna() == True]"
   ]
  },
  {
   "cell_type": "markdown",
   "id": "b069271d",
   "metadata": {
    "lang": "en"
   },
   "source": [
    "Let's discard these lines"
   ]
  },
  {
   "cell_type": "code",
   "execution_count": 22,
   "id": "172008ae",
   "metadata": {},
   "outputs": [],
   "source": [
    "data = data.dropna(subset = [\"name\"])\n",
    "data = data.reset_index(drop = True)"
   ]
  },
  {
   "cell_type": "code",
   "execution_count": 23,
   "id": "0000144b",
   "metadata": {},
   "outputs": [
    {
     "name": "stdout",
     "output_type": "stream",
     "text": [
      "<class 'pandas.core.frame.DataFrame'>\n",
      "RangeIndex: 16443 entries, 0 to 16442\n",
      "Data columns (total 11 columns):\n",
      " #   Column           Non-Null Count  Dtype  \n",
      "---  ------           --------------  -----  \n",
      " 0   name             16443 non-null  object \n",
      " 1   platform         16443 non-null  object \n",
      " 2   year_of_release  16443 non-null  int64  \n",
      " 3   genre            16443 non-null  object \n",
      " 4   NA_sales         16443 non-null  float64\n",
      " 5   EU_sales         16443 non-null  float64\n",
      " 6   JP_sales         16443 non-null  float64\n",
      " 7   other_sales      16443 non-null  float64\n",
      " 8   critic_score     7982 non-null   float64\n",
      " 9   user_score       7462 non-null   float64\n",
      " 10  rating           9767 non-null   object \n",
      "dtypes: float64(6), int64(1), object(4)\n",
      "memory usage: 1.4+ MB\n"
     ]
    }
   ],
   "source": [
    "data.info()"
   ]
  },
  {
   "cell_type": "markdown",
   "id": "652689c6",
   "metadata": {
    "lang": "en"
   },
   "source": [
    "<h3> Analysis of gaps </h3>"
   ]
  },
  {
   "cell_type": "markdown",
   "id": "184bd680",
   "metadata": {
    "lang": "en"
   },
   "source": [
    "Let's think about the possible reasons for the omissions.\n",
    "\n",
    "Let’s display two graphs reflecting the absolute and relative number of gaps in lines depending on the release date (in other words, let’s check the assumption that older games often lack information about user ratings and age genre)"
   ]
  },
  {
   "cell_type": "markdown",
   "id": "d7ce00a3",
   "metadata": {
    "lang": "en"
   },
   "source": [
    "Relative skip rate"
   ]
  },
  {
   "cell_type": "code",
   "execution_count": 24,
   "id": "73c2e510",
   "metadata": {},
   "outputs": [
    {
     "data": {
      "image/png": "[encoded data removed]",
      "text/plain": [
       "<Figure size 432x288 with 1 Axes>"
      ]
     },
     "metadata": {
      "needs_background": "light"
     },
     "output_type": "display_data"
    }
   ],
   "source": [
    "data.groupby('year_of_release')[['critic_score', 'user_score', 'rating']].apply(lambda x: x.isna().sum()/x.isna().count()).plot();\n",
    "plt.xlabel('Год выпуска');\n",
    "plt.ylabel('Относительная частота');\n",
    "plt.title('Относительная частота пропусков по годам');"
   ]
  },
  {
   "cell_type": "markdown",
   "id": "eae8c030",
   "metadata": {
    "lang": "en"
   },
   "source": [
    "Absolute skip rate"
   ]
  },
  {
   "cell_type": "code",
   "execution_count": 25,
   "id": "9ad5041a",
   "metadata": {},
   "outputs": [
    {
     "data": {
      "image/png": "[encoded data removed]",
      "text/plain": [
       "<Figure size 432x288 with 1 Axes>"
      ]
     },
     "metadata": {
      "needs_background": "light"
     },
     "output_type": "display_data"
    }
   ],
   "source": [
    "data.groupby('year_of_release')[['critic_score', 'user_score', 'rating']].apply(lambda x: x.isna().sum()).plot();\n",
    "plt.xlabel('Год выпуска');\n",
    "plt.ylabel('Абсолютная частота');\n",
    "plt.title('Абсолютная частота пропусков по годам');"
   ]
  },
  {
   "cell_type": "code",
   "execution_count": 26,
   "id": "1c59bdb2",
   "metadata": {},
   "outputs": [
    {
     "data": {
      "text/plain": [
       "12.005108556832695"
      ]
     },
     "execution_count": 26,
     "metadata": {},
     "output_type": "execute_result"
    }
   ],
   "source": [
    "data.query('year_of_release <= 1999').shape[0]*100/data.shape[0]"
   ]
  },
  {
   "cell_type": "markdown",
   "id": "bc095a8c",
   "metadata": {
    "lang": "en"
   },
   "source": [
    "We can indeed say that almost all old games (released before 2000) have missing data on ratings and ratings, but old games make up only a small part (about 12%) of the total sample => the main reason for the missing data is something else ."
   ]
  },
  {
   "cell_type": "markdown",
   "id": "a87ae30d",
   "metadata": {
    "lang": "en"
   },
   "source": [
    "<h3> Total sales </h3>"
   ]
  },
  {
   "cell_type": "markdown",
   "id": "8c3d9dc1",
   "metadata": {
    "lang": "en"
   },
   "source": [
    "In order to judge the popularity of a game, it is important to know not only its individual sales by region, but also the overall purchase rate as a whole. Let's add a column with total game sales"
   ]
  },
  {
   "cell_type": "code",
   "execution_count": 27,
   "id": "762bbcd3",
   "metadata": {},
   "outputs": [
    {
     "name": "stdout",
     "output_type": "stream",
     "text": [
      "<class 'pandas.core.frame.DataFrame'>\n",
      "RangeIndex: 16443 entries, 0 to 16442\n",
      "Data columns (total 12 columns):\n",
      " #   Column           Non-Null Count  Dtype  \n",
      "---  ------           --------------  -----  \n",
      " 0   name             16443 non-null  object \n",
      " 1   platform         16443 non-null  object \n",
      " 2   year_of_release  16443 non-null  int64  \n",
      " 3   genre            16443 non-null  object \n",
      " 4   NA_sales         16443 non-null  float64\n",
      " 5   EU_sales         16443 non-null  float64\n",
      " 6   JP_sales         16443 non-null  float64\n",
      " 7   other_sales      16443 non-null  float64\n",
      " 8   critic_score     7982 non-null   float64\n",
      " 9   user_score       7462 non-null   float64\n",
      " 10  rating           9767 non-null   object \n",
      " 11  sales_total      16443 non-null  float64\n",
      "dtypes: float64(7), int64(1), object(4)\n",
      "memory usage: 1.5+ MB\n"
     ]
    }
   ],
   "source": [
    "data['sales_total'] = data['NA_sales']+data['EU_sales']+data['JP_sales']+data['other_sales']\n",
    "data.info()"
   ]
  },
  {
   "cell_type": "code",
   "execution_count": 28,
   "id": "7dbfe46b",
   "metadata": {},
   "outputs": [
    {
     "data": {
      "text/html": [
       "<div>\n",
       "<style scoped>\n",
       "    .dataframe tbody tr th:only-of-type {\n",
       "        vertical-align: middle;\n",
       "    }\n",
       "\n",
       "    .dataframe tbody tr th {\n",
       "        vertical-align: top;\n",
       "    }\n",
       "\n",
       "    .dataframe thead th {\n",
       "        text-align: right;\n",
       "    }\n",
       "</style>\n",
       "<table border=\"1\" class=\"dataframe\">\n",
       "  <thead>\n",
       "    <tr style=\"text-align: right;\">\n",
       "      <th></th>\n",
       "      <th>name</th>\n",
       "      <th>platform</th>\n",
       "      <th>year_of_release</th>\n",
       "      <th>genre</th>\n",
       "      <th>NA_sales</th>\n",
       "      <th>EU_sales</th>\n",
       "      <th>JP_sales</th>\n",
       "      <th>other_sales</th>\n",
       "      <th>critic_score</th>\n",
       "      <th>user_score</th>\n",
       "      <th>rating</th>\n",
       "      <th>sales_total</th>\n",
       "    </tr>\n",
       "  </thead>\n",
       "  <tbody>\n",
       "    <tr>\n",
       "      <th>0</th>\n",
       "      <td>Wii Sports</td>\n",
       "      <td>Wii</td>\n",
       "      <td>2006</td>\n",
       "      <td>Sports</td>\n",
       "      <td>41.36</td>\n",
       "      <td>28.96</td>\n",
       "      <td>3.77</td>\n",
       "      <td>8.45</td>\n",
       "      <td>76.0</td>\n",
       "      <td>8.0</td>\n",
       "      <td>E</td>\n",
       "      <td>82.54</td>\n",
       "    </tr>\n",
       "    <tr>\n",
       "      <th>1</th>\n",
       "      <td>Super Mario Bros.</td>\n",
       "      <td>NES</td>\n",
       "      <td>1985</td>\n",
       "      <td>Platform</td>\n",
       "      <td>29.08</td>\n",
       "      <td>3.58</td>\n",
       "      <td>6.81</td>\n",
       "      <td>0.77</td>\n",
       "      <td>NaN</td>\n",
       "      <td>NaN</td>\n",
       "      <td>NaN</td>\n",
       "      <td>40.24</td>\n",
       "    </tr>\n",
       "    <tr>\n",
       "      <th>2</th>\n",
       "      <td>Mario Kart Wii</td>\n",
       "      <td>Wii</td>\n",
       "      <td>2008</td>\n",
       "      <td>Racing</td>\n",
       "      <td>15.68</td>\n",
       "      <td>12.76</td>\n",
       "      <td>3.79</td>\n",
       "      <td>3.29</td>\n",
       "      <td>82.0</td>\n",
       "      <td>8.3</td>\n",
       "      <td>E</td>\n",
       "      <td>35.52</td>\n",
       "    </tr>\n",
       "    <tr>\n",
       "      <th>3</th>\n",
       "      <td>Wii Sports Resort</td>\n",
       "      <td>Wii</td>\n",
       "      <td>2009</td>\n",
       "      <td>Sports</td>\n",
       "      <td>15.61</td>\n",
       "      <td>10.93</td>\n",
       "      <td>3.28</td>\n",
       "      <td>2.95</td>\n",
       "      <td>80.0</td>\n",
       "      <td>8.0</td>\n",
       "      <td>E</td>\n",
       "      <td>32.77</td>\n",
       "    </tr>\n",
       "    <tr>\n",
       "      <th>4</th>\n",
       "      <td>Pokemon Red/Pokemon Blue</td>\n",
       "      <td>GB</td>\n",
       "      <td>1996</td>\n",
       "      <td>Role-Playing</td>\n",
       "      <td>11.27</td>\n",
       "      <td>8.89</td>\n",
       "      <td>10.22</td>\n",
       "      <td>1.00</td>\n",
       "      <td>NaN</td>\n",
       "      <td>NaN</td>\n",
       "      <td>NaN</td>\n",
       "      <td>31.38</td>\n",
       "    </tr>\n",
       "  </tbody>\n",
       "</table>\n",
       "</div>"
      ],
      "text/plain": [
       "                       name platform  year_of_release         genre  NA_sales  \\\n",
       "0                Wii Sports      Wii             2006        Sports     41.36   \n",
       "1         Super Mario Bros.      NES             1985      Platform     29.08   \n",
       "2            Mario Kart Wii      Wii             2008        Racing     15.68   \n",
       "3         Wii Sports Resort      Wii             2009        Sports     15.61   \n",
       "4  Pokemon Red/Pokemon Blue       GB             1996  Role-Playing     11.27   \n",
       "\n",
       "   EU_sales  JP_sales  other_sales  critic_score  user_score rating  \\\n",
       "0     28.96      3.77         8.45          76.0         8.0      E   \n",
       "1      3.58      6.81         0.77           NaN         NaN    NaN   \n",
       "2     12.76      3.79         3.29          82.0         8.3      E   \n",
       "3     10.93      3.28         2.95          80.0         8.0      E   \n",
       "4      8.89     10.22         1.00           NaN         NaN    NaN   \n",
       "\n",
       "   sales_total  \n",
       "0        82.54  \n",
       "1        40.24  \n",
       "2        35.52  \n",
       "3        32.77  \n",
       "4        31.38  "
      ]
     },
     "execution_count": 28,
     "metadata": {},
     "output_type": "execute_result"
    }
   ],
   "source": [
    "data.head()"
   ]
  },
  {
   "cell_type": "markdown",
   "id": "aa072801",
   "metadata": {
    "lang": "en"
   },
   "source": [
    "<h3> Output from preprocessing </h3>"
   ]
  },
  {
   "cell_type": "markdown",
   "id": "a83d84c3",
   "metadata": {
    "lang": "en"
   },
   "source": [
    "For the most part, the dataset remained unchanged. In 2 columns, the data type was replaced with a more suitable one, almost all columns were renamed for more convenient work with them, a small part of the gaps was discarded (a little more than 1.5% of the total). We were able to find the reason for some of the omissions in the columns with reviews and age ratings (older games almost always lack this data). Added a column with total sales worldwide. What wasn't done:\n",
    "\n",
    "It was planned to fill in the gaps in the columns with user and critic ratings, but it was not possible to find a suitable replacement method (the only thing that came to mind was to write a code that would make a request for the name of the game and send data with ratings back. Such data can be It would be possible to obtain it from publicly available resources (for example, Wikipedia), but I do not have the necessary skills for this. In the same way, it would be possible to fill in the gaps in the age rating.)"
   ]
  },
  {
   "cell_type": "code",
   "execution_count": 29,
   "id": "ecbbc04d",
   "metadata": {},
   "outputs": [],
   "source": [
    "data = data.rename(columns = {'year_of_release' : 'year'})"
   ]
  },
  {
   "cell_type": "markdown",
   "id": "c9845a0f",
   "metadata": {
    "lang": "en"
   },
   "source": [
    "<h2> Data analysis </h2>"
   ]
  },
  {
   "cell_type": "markdown",
   "id": "ce52b26c",
   "metadata": {
    "lang": "en"
   },
   "source": [
    "<h3> Game releases by year </h3>"
   ]
  },
  {
   "cell_type": "markdown",
   "id": "313f5390",
   "metadata": {
    "lang": "en"
   },
   "source": [
    "Let's start with something simple. Let's see how many games were released over the years"
   ]
  },
  {
   "cell_type": "code",
   "execution_count": 31,
   "id": "9c535d90",
   "metadata": {},
   "outputs": [
    {
     "data": {
      "image/png": "[encoded data removed]",
      "text/plain": [
       "<Figure size 432x288 with 1 Axes>"
      ]
     },
     "metadata": {
      "needs_background": "light"
     },
     "output_type": "display_data"
    }
   ],
   "source": [
    "data.year.hist(bins = (data.year.max() - data.year.min()+1));\n",
    "plt.xlabel('Year');\n",
    "plt.ylabel('Number of Games');\n",
    "plt.title('Number of Games by Year');"
   ]
  },
  {
   "cell_type": "markdown",
   "id": "b394eabc",
   "metadata": {
    "lang": "en"
   },
   "source": [
    "We see that every year until 2010 the number of released games grew steadily, but then there was an almost halving decline until 2016. Most likely, from 2010 to 2015, developers changed the main technologies (for example, updated game engines) or, conversely, waited until the market for game consoles and PCs reaches the required technological level.\n",
    "\n",
    "It is also logical to assume that most of the games from 2005 to 2010 were not produced by large studios, but, on the contrary, by small teams of indie developers (perhaps at that moment applications for creating games became widely popular, allowing you to put together an indie game on your knees in a couple of weeks (to Unfortunately, I don’t see a way to verify this assumption using the available data, but a quick search on the Internet confirms this guess))\n",
    "\n",
    "In addition, we can now say that the data up to ~1995 is of little interest to us, since very few games were released in those years, and as we previously found out, the information content of this data is minimal (can be left only for viewing platforms popular at that time and genres)"
   ]
  },
  {
   "cell_type": "markdown",
   "id": "e0df31ff",
   "metadata": {
    "lang": "en"
   },
   "source": [
    "<h3> Sales by platform </h3>"
   ]
  },
  {
   "cell_type": "code",
   "execution_count": 32,
   "id": "81ba67da",
   "metadata": {},
   "outputs": [
    {
     "data": {
      "text/plain": [
       "platform\n",
       "PS2     1233.56\n",
       "X360     961.24\n",
       "PS3      931.33\n",
       "Wii      891.18\n",
       "DS       802.78\n",
       "Name: sales_total, dtype: float64"
      ]
     },
     "execution_count": 32,
     "metadata": {},
     "output_type": "execute_result"
    }
   ],
   "source": [
    "top_platforms = data.groupby('platform').sum().sort_values('sales_total', ascending=False)\n",
    "top_platforms.sales_total.head(5)"
   ]
  },
  {
   "cell_type": "markdown",
   "id": "c17f56c9",
   "metadata": {
    "lang": "en"
   },
   "source": [
    "We have received a list of the top 5 platforms by total game sales"
   ]
  },
  {
   "cell_type": "code",
   "execution_count": 33,
   "id": "a9555319",
   "metadata": {},
   "outputs": [],
   "source": [
    "top_platforms_data = data[data['platform'].isin(top_platforms.head(5).index)]"
   ]
  },
  {
   "cell_type": "code",
   "execution_count": 34,
   "id": "e5da182b",
   "metadata": {},
   "outputs": [],
   "source": [
    "platforms_by_year_sales = top_platforms_data.groupby(['year', 'platform'])['sales_total'].sum().unstack()"
   ]
  },
  {
   "cell_type": "code",
   "execution_count": 35,
   "id": "aa4bb369",
   "metadata": {},
   "outputs": [
    {
     "data": {
      "image/png": "[encoded data removed]",
      "text/plain": [
       "<Figure size 720x432 with 1 Axes>"
      ]
     },
     "metadata": {
      "needs_background": "light"
     },
     "output_type": "display_data"
    }
   ],
   "source": [
    "platforms_by_year_sales.plot(figsize=(10, 6));\n",
    "plt.xlabel('Год');\n",
    "plt.ylabel('Число проданных копий');\n",
    "plt.title('Топ 5 платформ по суммарным продажам игр');"
   ]
  },
  {
   "cell_type": "markdown",
   "id": "15174679",
   "metadata": {
    "lang": "en"
   },
   "source": [
    "1. We can immediately notice that on average these platforms have been very popular for about 5 years\n",
    "2. In general, the platform has existed for about 10 years\n",
    "3. There is a clear difference between DS and PS2. The number of games released annually on PS2 is ~1.5 times less than on DS, but sales volume on PS2 is significantly higher. This suggests that the PS2 was popular due to the quality of games, not quantity\n",
    "4. The sharp popularity of the Wii immediately after its release is striking. Most likely the result of a good advertising campaign"
   ]
  },
  {
   "cell_type": "markdown",
   "id": "122b2a03",
   "metadata": {
    "lang": "en"
   },
   "source": [
    "<h3> Current period </h3>"
   ]
  },
  {
   "cell_type": "markdown",
   "id": "a6659548",
   "metadata": {
    "lang": "en"
   },
   "source": [
    "As was previously said, successful platforms live for about 10 years, less popular ones for about 7 => by taking data from 2014 to 2015 (apparently the data for 2016 is not complete, so a decline is visible at the end) we can understand which platform is better to invest in( In this way, we do not miss other popular platforms and see those that are just gaining momentum)"
   ]
  },
  {
   "cell_type": "code",
   "execution_count": 37,
   "id": "662cf846",
   "metadata": {},
   "outputs": [],
   "source": [
    "recent_data = data[(data['year'] >= 2014) & (data['year'] <= 2016)]\n",
    "platforms_by_year_actual_sum = recent_data.groupby(['year', 'platform'])['sales_total'].sum().unstack()"
   ]
  },
  {
   "cell_type": "code",
   "execution_count": 38,
   "id": "afa68237",
   "metadata": {},
   "outputs": [
    {
     "data": {
      "image/png": "[encoded data removed]",
      "text/plain": [
       "<Figure size 720x432 with 1 Axes>"
      ]
     },
     "metadata": {
      "needs_background": "light"
     },
     "output_type": "display_data"
    }
   ],
   "source": [
    "platforms_by_year_actual_sum.plot(figsize=(10, 6));\n",
    "plt.legend(loc='upper left');\n",
    "plt.xlabel('Год');\n",
    "plt.ylabel('Число проданных копий');\n",
    "plt.title('Продажи на разных платформах за актулаьный период');"
   ]
  },
  {
   "cell_type": "code",
   "execution_count": 39,
   "id": "1d8f728d",
   "metadata": {},
   "outputs": [
    {
     "data": {
      "image/png": "[encoded data removed]",
      "text/plain": [
       "<Figure size 720x432 with 1 Axes>"
      ]
     },
     "metadata": {
      "needs_background": "light"
     },
     "output_type": "display_data"
    }
   ],
   "source": [
    "platforms_by_year_actual_count = recent_data.groupby(['year', 'platform']).size().unstack()\n",
    "platforms_by_year_actual_count.plot(figsize=(10, 6));\n",
    "plt.legend(loc='upper left');\n",
    "plt.xlabel('Год');\n",
    "plt.ylabel('Количесвто выпущенных игр');\n",
    "plt.title('Количесвто выпущенных игр на разных платформах за актулаьный период');"
   ]
  },
  {
   "cell_type": "code",
   "execution_count": 40,
   "id": "8742fc3d",
   "metadata": {},
   "outputs": [],
   "source": [
    "top_platforms = ['3DS', 'PC', 'PS3', 'PS4', 'PSP', 'PSV', 'Wii', 'WiiU', 'X360', 'XOne']"
   ]
  },
  {
   "cell_type": "code",
   "execution_count": 41,
   "id": "b836d229",
   "metadata": {},
   "outputs": [
    {
     "data": {
      "image/png": "[encoded data removed]",
      "text/plain": [
       "<Figure size 432x288 with 1 Axes>"
      ]
     },
     "metadata": {
      "needs_background": "light"
     },
     "output_type": "display_data"
    }
   ],
   "source": [
    "sns.boxplot(data = recent_data.query('platform in @top_platforms'), x = 'sales_total', y = 'platform');\n",
    "plt.xlabel('Количество проданных копий');\n",
    "plt.ylabel('Платформа');\n",
    "plt.title('Продажи по платформам за актуальный период');"
   ]
  },
  {
   "cell_type": "code",
   "execution_count": 42,
   "id": "d370b3d5",
   "metadata": {},
   "outputs": [
    {
     "data": {
      "image/png": "[encoded data removed]",
      "text/plain": [
       "<Figure size 432x288 with 1 Axes>"
      ]
     },
     "metadata": {
      "needs_background": "light"
     },
     "output_type": "display_data"
    }
   ],
   "source": [
    "sns.boxplot(data = recent_data.query('platform in @top_platforms'), x = 'sales_total', y = 'platform').set_xlim([0, 2])\n",
    "plt.xlabel('Количество проданных копий');\n",
    "plt.ylabel('Платформа');\n",
    "plt.title('Продажи по платформам за актуальный период');\n",
    "plt.show();"
   ]
  },
  {
   "cell_type": "markdown",
   "id": "18b53c9f",
   "metadata": {
    "lang": "en"
   },
   "source": [
    "1. It is clearly visible how the popularity of the PS3 and Xbox360 is falling (This can be seen both in the decrease in total sales on the console and in the cessation of release of games on them)\n",
    "2. Wii, PSP, WiiU will obviously disappear completely in the near future\n",
    "3. The beginning of a new generation of consoles in the form of Xbox ONE and PS4 is clearly visible (perhaps they should be given the highest priority when planning an advertising campaign)\n",
    "4. Platforms such as 3DS, PSV are also losing their relevance\n",
    "5. The popularity of games on PC, as well as sales, look stable every year, so an advertising campaign for this platform also makes sense"
   ]
  },
  {
   "cell_type": "markdown",
   "id": "f785c286",
   "metadata": {
    "lang": "en"
   },
   "source": [
    "<h3> Correlation between reviews and sales </h3>"
   ]
  },
  {
   "cell_type": "code",
   "execution_count": 45,
   "id": "49bc48b5",
   "metadata": {},
   "outputs": [
    {
     "name": "stdout",
     "output_type": "stream",
     "text": [
      "<class 'pandas.core.frame.DataFrame'>\n",
      "Int64Index: 1689 entries, 31 to 16442\n",
      "Data columns (total 12 columns):\n",
      " #   Column        Non-Null Count  Dtype  \n",
      "---  ------        --------------  -----  \n",
      " 0   name          1689 non-null   object \n",
      " 1   platform      1689 non-null   object \n",
      " 2   year          1689 non-null   int64  \n",
      " 3   genre         1689 non-null   object \n",
      " 4   NA_sales      1689 non-null   float64\n",
      " 5   EU_sales      1689 non-null   float64\n",
      " 6   JP_sales      1689 non-null   float64\n",
      " 7   other_sales   1689 non-null   float64\n",
      " 8   critic_score  718 non-null    float64\n",
      " 9   user_score    888 non-null    float64\n",
      " 10  rating        940 non-null    object \n",
      " 11  sales_total   1689 non-null   float64\n",
      "dtypes: float64(7), int64(1), object(4)\n",
      "memory usage: 171.5+ KB\n"
     ]
    }
   ],
   "source": [
    "data.info()"
   ]
  },
  {
   "cell_type": "markdown",
   "id": "e562147e",
   "metadata": {
    "lang": "en"
   },
   "source": [
    "To see how reviews from critics and users affect sales within the platform, let’s choose PS3 and PS4. The PS3 platform is in the top 3 in popularity of all time, a huge number of games have been released on it, and the platform is also relatively relevant (for example, with the already outdated PS2, which, although it is the leader in popularity, is much older than the PS3). Let’s take PS4 because the platform is clearly emerging as a new leader, but has not yet managed to gain the necessary popularity due to its novelty, so its study will help to understand how the quality of released games influences the development of the platform."
   ]
  },
  {
   "cell_type": "code",
   "execution_count": 46,
   "id": "87abd462",
   "metadata": {},
   "outputs": [
    {
     "name": "stdout",
     "output_type": "stream",
     "text": [
      "Платформа: PS3\n",
      "Корреляция с отзывами игроков: -0.16676141347662118\n",
      "Корреляция с отзывами критиков: 0.44657460493190704\n",
      "Платформа: PS4\n",
      "Корреляция с отзывами игроков: -0.040131589472697356\n",
      "Корреляция с отзывами критиков: 0.40266141068104083\n"
     ]
    }
   ],
   "source": [
    "platforms = ['PS3', 'PS4']\n",
    "for platform in platforms:\n",
    "    current_correlation_data = data[data['platform'] == platform]\n",
    "    print(f'Платформа: {platform}\\nКорреляция с отзывами игроков: {current_correlation_data.user_score.corr(current_correlation_data.sales_total)}\\nКорреляция с отзывами критиков: {current_correlation_data.critic_score.corr(current_correlation_data.sales_total)}')\n"
   ]
  },
  {
   "cell_type": "markdown",
   "id": "a8b8a49a",
   "metadata": {
    "lang": "en"
   },
   "source": [
    "The results indicate in both cases that there is no linear relationship between player reviews and game sales, and also a weak relationship between critical reviews and sales."
   ]
  },
  {
   "cell_type": "code",
   "execution_count": 48,
   "id": "f6fc43a9",
   "metadata": {},
   "outputs": [
    {
     "name": "stdout",
     "output_type": "stream",
     "text": [
      "Платформа: PS4\n",
      "Корреляция с отзывами игроков: -0.040131589472697356\n",
      "Корреляция с отзывами критиков: 0.40266141068104083\n",
      "Платформа: 3DS\n",
      "Корреляция с отзывами игроков: 0.2151932718527028\n",
      "Корреляция с отзывами критиков: 0.314117492869051\n",
      "Платформа: XOne\n",
      "Корреляция с отзывами игроков: -0.0703839280647581\n",
      "Корреляция с отзывами критиков: 0.42867694370333226\n",
      "Платформа: WiiU\n",
      "Корреляция с отзывами игроков: 0.40792645792170773\n",
      "Корреляция с отзывами критиков: 0.370201412480884\n",
      "Платформа: PS3\n",
      "Корреляция с отзывами игроков: -0.16676141347662118\n",
      "Корреляция с отзывами критиков: 0.44657460493190704\n",
      "Платформа: X360\n",
      "Корреляция с отзывами игроков: -0.138444570945665\n",
      "Корреляция с отзывами критиков: 0.5257228356581523\n",
      "Платформа: PC\n",
      "Корреляция с отзывами игроков: -0.07159665703472451\n",
      "Корреляция с отзывами критиков: 0.17463413769350036\n",
      "Платформа: Wii\n",
      "Корреляция с отзывами игроков: 1.0\n",
      "Корреляция с отзывами критиков: nan\n",
      "Платформа: PSV\n",
      "Корреляция с отзывами игроков: -0.16845504978064446\n",
      "Корреляция с отзывами критиков: 0.04266490657009526\n"
     ]
    }
   ],
   "source": [
    "platforms = data.platform.unique().tolist()\n",
    "for platform in platforms:\n",
    "    current_correlation_data = data[data['platform'] == platform]\n",
    "    user_corr = current_correlation_data.user_score.corr(current_correlation_data.sales_total)\n",
    "    critic_corr = current_correlation_data.critic_score.corr(current_correlation_data.sales_total)\n",
    "    if user_corr > -1:\n",
    "        print(f'Платформа: {platform}\\nКорреляция с отзывами игроков: {user_corr}\\nКорреляция с отзывами критиков: {critic_corr}')"
   ]
  },
  {
   "cell_type": "code",
   "execution_count": 50,
   "id": "283c63f0",
   "metadata": {},
   "outputs": [],
   "source": [
    "platforms = ['PS4', 'PS3', 'XOne', 'X360', 'PC']"
   ]
  },
  {
   "cell_type": "code",
   "execution_count": 51,
   "id": "f0545e09",
   "metadata": {},
   "outputs": [
    {
     "data": {
      "image/png": "[encoded data removed]",
      "text/plain": [
       "<Figure size 864x576 with 5 Axes>"
      ]
     },
     "metadata": {
      "needs_background": "light"
     },
     "output_type": "display_data"
    }
   ],
   "source": [
    "g = sns.FacetGrid(data[data['platform'].isin(platforms)], col='platform', hue='platform', col_wrap=3, height=4)\n",
    "g = g.map(plt.scatter, 'critic_score', 'sales_total', alpha=0.7)\n",
    "plt.title('Зависимость продаж от отзывов критиков');\n",
    "plt.show();"
   ]
  },
  {
   "cell_type": "code",
   "execution_count": 52,
   "id": "d1150cbe",
   "metadata": {},
   "outputs": [
    {
     "data": {
      "image/png": "[encoded data removed]",
      "text/plain": [
       "<Figure size 864x576 with 5 Axes>"
      ]
     },
     "metadata": {
      "needs_background": "light"
     },
     "output_type": "display_data"
    }
   ],
   "source": [
    "g = sns.FacetGrid(data[data['platform'].isin(platforms)], col='platform', hue='platform', col_wrap=3, height=4)\n",
    "g = g.map(plt.scatter, 'user_score', 'sales_total', alpha=0.7)\n",
    "plt.title('Зависимость продаж от отзывов пользователей');\n",
    "plt.show();"
   ]
  },
  {
   "cell_type": "markdown",
   "id": "93f391ca",
   "metadata": {
    "lang": "en"
   },
   "source": [
    "The obtained values ​​generally confirm earlier conclusions, with rare exceptions. However, none of the obtained values ​​exceeds the statistical significance level to make any predictions."
   ]
  },
  {
   "cell_type": "markdown",
   "id": "fbfb5e43",
   "metadata": {
    "lang": "en"
   },
   "source": [
    "<h3> Sales analysis by genre\n",
    "</h3>"
   ]
  },
  {
   "cell_type": "code",
   "execution_count": 53,
   "id": "5cb187df",
   "metadata": {},
   "outputs": [
    {
     "data": {
      "image/png": "[encoded data removed]",
      "text/plain": [
       "<Figure size 432x288 with 1 Axes>"
      ]
     },
     "metadata": {
      "needs_background": "light"
     },
     "output_type": "display_data"
    }
   ],
   "source": [
    "data.groupby('genre').sales_total.median().sort_values(ascending = False).plot(kind= 'bar');\n",
    "plt.title(\"Total sales by genre\")\n",
    "plt.xlabel(\"Genre\")\n",
    "plt.ylabel(\"Total sales\")\n",
    "plt.show()"
   ]
  },
  {
   "cell_type": "code",
   "execution_count": 54,
   "id": "b32351d8",
   "metadata": {},
   "outputs": [
    {
     "data": {
      "image/png": "[encoded data removed]",
      "text/plain": [
       "<Figure size 432x288 with 1 Axes>"
      ]
     },
     "metadata": {
      "needs_background": "light"
     },
     "output_type": "display_data"
    }
   ],
   "source": [
    "sns.boxplot(data = data.sort_values('sales_total',ascending = False), x = 'sales_total', y = 'genre').set_xlim([0, 2])\n",
    "plt.xlabel('Количество проданных копий');\n",
    "plt.ylabel('Платформа');\n",
    "plt.title('Продажи по платформам за актуальный период');\n",
    "plt.show();"
   ]
  },
  {
   "cell_type": "markdown",
   "id": "124cb9bf",
   "metadata": {
    "lang": "en"
   },
   "source": [
    "The most popular genres were shooters, sports, platformers, fighting games and RPGs. Often such games (with the exception of platformers) are large AAA projects, so such an observation is quite expected. We also see that strategy, puzzle and adventure games are the least popular. We also note that total sales of shooters are far ahead of all other genres."
   ]
  },
  {
   "cell_type": "markdown",
   "id": "a919b6b3",
   "metadata": {
    "lang": "en"
   },
   "source": [
    "<h3> Sales of games by region </h3>"
   ]
  },
  {
   "cell_type": "code",
   "execution_count": 55,
   "id": "dba8bebc",
   "metadata": {},
   "outputs": [
    {
     "data": {
      "image/png": "[encoded data removed]",
      "text/plain": [
       "<Figure size 432x288 with 1 Axes>"
      ]
     },
     "metadata": {
      "needs_background": "light"
     },
     "output_type": "display_data"
    }
   ],
   "source": [
    "data[['EU_sales', 'NA_sales', 'JP_sales']].sum().plot(kind= 'bar');\n",
    "plt.xlabel('Регион');\n",
    "plt.ylabel('Суммарные продажи');\n",
    "plt.title('Продажи по регионам за актуальный период');\n",
    "plt.show();"
   ]
  },
  {
   "cell_type": "markdown",
   "id": "6c65a593",
   "metadata": {
    "lang": "en"
   },
   "source": [
    "<h2> Portrait by region </h2>"
   ]
  },
  {
   "cell_type": "markdown",
   "id": "0eb88161",
   "metadata": {
    "lang": "en"
   },
   "source": [
    "<h3> Platforms</h3>"
   ]
  },
  {
   "cell_type": "code",
   "execution_count": 56,
   "id": "9d250c58",
   "metadata": {},
   "outputs": [],
   "source": [
    "top_platforms = data.groupby('platform').sum().sort_values('sales_total', ascending=False)\n",
    "NA_platforms = top_platforms.sort_values('NA_sales', ascending = False)\n",
    "NA_platforms_top = NA_platforms.head(5)\n",
    "NA_other = NA_platforms.iloc[5:].NA_sales.sum()\n",
    "NA_stat = pd.concat([NA_platforms_top, pd.DataFrame({'platform': ['Other'], 'NA_sales': [NA_other]})])\n",
    "NA_stat = NA_stat.rename({0:'Other'})\n",
    "\n",
    "\n",
    "EU_platforms = top_platforms.sort_values('EU_sales', ascending = False)\n",
    "EU_platforms_top = EU_platforms.head(5)\n",
    "EU_other = EU_platforms.iloc[5:].EU_sales.sum()\n",
    "EU_stat = pd.concat([EU_platforms_top, pd.DataFrame({'platform': ['Other'], 'EU_sales': [EU_other]})])\n",
    "EU_stat = EU_stat.rename({0:'Other'})\n",
    "\n",
    "\n",
    "JP_platforms = top_platforms.sort_values('JP_sales', ascending = False)\n",
    "JP_platforms_top = JP_platforms.head(5)\n",
    "JP_other = JP_platforms.iloc[5:].JP_sales.sum()\n",
    "JP_stat = pd.concat([JP_platforms_top, pd.DataFrame({'platform': ['Other'], 'JP_sales': [JP_other]})])\n",
    "JP_stat = JP_stat.rename({0:'Other'})"
   ]
  },
  {
   "cell_type": "code",
   "execution_count": 57,
   "id": "e63b7616",
   "metadata": {
    "scrolled": true
   },
   "outputs": [
    {
     "data": {
      "image/png": "[encoded data removed]",
      "text/plain": [
       "<Figure size 1440x1080 with 3 Axes>"
      ]
     },
     "metadata": {},
     "output_type": "display_data"
    }
   ],
   "source": [
    "fig, (ax1, ax2, ax3) = plt.subplots(1, 3)\n",
    "ax1.pie(NA_stat['NA_sales'], autopct='%1.1f%%', labels = NA_stat.index.tolist())\n",
    "ax1.set_title(\"North America top platforms\")\n",
    "ax2.pie(EU_stat['EU_sales'], autopct='%1.1f%%', labels = EU_stat.index.tolist())\n",
    "ax2.set_title(\"Europe top platforms\")\n",
    "ax3.pie(JP_stat['JP_sales'], autopct='%1.1f%%', labels = JP_stat.index.tolist())\n",
    "ax3.set_title(\"Japan top platforms\")\n",
    "fig.set_size_inches(20, 15)"
   ]
  },
  {
   "cell_type": "markdown",
   "id": "17b30877",
   "metadata": {
    "lang": "en"
   },
   "source": [
    "XBox 360, XOne, PS3 and PS4, 3DS are the most popular platforms in the USA. All except the half-day one are game consoles of the 7th and 8th generation. The Nintendo 3DS is the only portable console on this list. PS4 and XOne share the market almost equally and occupy almost 2/3, the rest is shared by consoles of previous generations and other platforms"
   ]
  },
  {
   "cell_type": "markdown",
   "id": "935b9e4b",
   "metadata": {
    "lang": "en"
   },
   "source": [
    "In Europe, the top platforms look almost the same, with the exception of the X360, which was supplanted by the PC. PS4 occupies almost 50% of the market, followed by its main competitor - XOne, which, however, has not found such popularity in the region and occupies only 17%. PC has almost 7%, the rest is shared by platforms of previous generations and other consoles."
   ]
  },
  {
   "cell_type": "markdown",
   "id": "b097094c",
   "metadata": {
    "lang": "en"
   },
   "source": [
    "But the list of top platforms in Japan is very different from the rest. Firstly, the main competitor of the domestic manufacturer, the XBox line of consoles, is completely absent. Secondly, in first place by a noticeable margin is the Nintendo 3DS, occupying 47.5% of the market, then the Sony product line: PS4, PSV and PS3 with 16%, 15.6% and 12.1%, respectively. The list is completed by the portable gaming console WiiU, released in 2012. What is noteworthy is that the “Other” category occupies less than 1%, which indicates clear favorites in the Japanese market."
   ]
  },
  {
   "cell_type": "markdown",
   "id": "ace6796e",
   "metadata": {
    "lang": "en"
   },
   "source": [
    "<h3> Conclusion by platform</h3>"
   ]
  },
  {
   "cell_type": "markdown",
   "id": "3ffa4d2e",
   "metadata": {
    "lang": "en"
   },
   "source": [
    "Different platforms are dominant in different regions. In North America, everything often coincides with the global trend, Europe consolidates it (maybe with some changes), but the Japanese market is always different from the rest, so when planning an advertising campaign, you should also take into account the characteristics of each region"
   ]
  },
  {
   "cell_type": "markdown",
   "id": "403d1795",
   "metadata": {
    "lang": "en"
   },
   "source": [
    "<h3> Impact of the ESRB rating on sales in each region</h3>"
   ]
  },
  {
   "cell_type": "markdown",
   "id": "7e0f715e",
   "metadata": {
    "lang": "en"
   },
   "source": [
    "First, let's fill in the blanks in the ESRB rating column."
   ]
  },
  {
   "cell_type": "code",
   "execution_count": 60,
   "id": "91a2f36b",
   "metadata": {},
   "outputs": [
    {
     "name": "stderr",
     "output_type": "stream",
     "text": [
      "/tmp/ipykernel_89/830050385.py:1: SettingWithCopyWarning: \n",
      "A value is trying to be set on a copy of a slice from a DataFrame.\n",
      "Try using .loc[row_indexer,col_indexer] = value instead\n",
      "\n",
      "See the caveats in the documentation: https://pandas.pydata.org/pandas-docs/stable/user_guide/indexing.html#returning-a-view-versus-a-copy\n",
      "  data['rating'] = data['rating'].fillna('No rating')\n"
     ]
    }
   ],
   "source": [
    "data['rating'] = data['rating'].fillna('No rating')"
   ]
  },
  {
   "cell_type": "code",
   "execution_count": 61,
   "id": "d8448685",
   "metadata": {},
   "outputs": [],
   "source": [
    "NA_rating_grouped = data.groupby('rating').sum().sort_values('NA_sales', ascending = False)\n",
    "EU_rating_grouped = data.groupby('rating').sum().sort_values('EU_sales', ascending = False)\n",
    "JP_rating_grouped = data.groupby('rating').sum().sort_values('JP_sales', ascending = False)\n"
   ]
  },
  {
   "cell_type": "code",
   "execution_count": 62,
   "id": "ea001209",
   "metadata": {},
   "outputs": [
    {
     "data": {
      "image/png": "[encoded data removed]",
      "text/plain": [
       "<Figure size 1080x648 with 3 Axes>"
      ]
     },
     "metadata": {},
     "output_type": "display_data"
    }
   ],
   "source": [
    "fig, (ax1, ax2, ax3) = plt.subplots(1, 3)\n",
    "ax1.pie(NA_rating_grouped['NA_sales'], autopct='%1.1f%%', labels = NA_rating_grouped.index.tolist())\n",
    "ax1.set_title(\"North America top sales by rating\")\n",
    "ax2.pie(EU_rating_grouped['EU_sales'], autopct='%1.1f%%', labels = EU_rating_grouped.index.tolist())\n",
    "ax2.set_title(\"Europe top sales by rating\")\n",
    "ax3.pie(JP_rating_grouped['JP_sales'],  autopct='%1.1f%%', labels = JP_rating_grouped.index.tolist())\n",
    "ax3.set_title(\"Japan top sales by rating\")\n",
    "fig.set_size_inches(15, 9)"
   ]
  },
  {
   "cell_type": "markdown",
   "id": "a5f5d8bb",
   "metadata": {
    "lang": "en"
   },
   "source": [
    "<h3> Conclusion by rating ERSB</h3>"
   ]
  },
  {
   "cell_type": "markdown",
   "id": "1f49028a",
   "metadata": {
    "lang": "en"
   },
   "source": [
    "In Europe and North America the picture is absolutely the same. The highest sales are for games rated M (Mature 17+), followed by games for everyone, games for teenagers, and games for children over 10 years old. In Japan, most games are not ESRB rated, apparently players from there don't really like Western games. This should be taken into account during an advertising campaign."
   ]
  },
  {
   "cell_type": "markdown",
   "id": "e00a6811",
   "metadata": {
    "lang": "en"
   },
   "source": [
    "<h2> Final portraits by region </h2>"
   ]
  },
  {
   "cell_type": "markdown",
   "id": "ab9eb6d9",
   "metadata": {
    "lang": "en"
   },
   "source": [
    "North American user:\n",
    "\n",
    "- Most popular platforms: PS4, Xbox One, Xbox 360, PS3, 3DS\n",
    "- Prefers games in the following genres: Shooter, Platformer, Sport, Fighting, Racing\n",
    "- Doesn't rely heavily on ESRB ratings when selecting games, but preferences lean towards games for mature audiences\n",
    "\n",
    "User in Europe:\n",
    "\n",
    "- Most popular platforms: PS4, PS3, PC, Xbox One, 3DS\n",
    "- Prefers games in the following genres: Racing, Shooter, Sport, Simulator, Platformer\n",
    "- Doesn't rely heavily on ESRB ratings when selecting games, but preferences lean towards games for mature audiences\n",
    "\n",
    "User in Japan:\n",
    "\n",
    "- Most popular platforms: 3DS, PS4, PSV, PS3, WiiU\n",
    "- Prefers games in the following genres: Puzzle, RPG, Action, Adventure, Fighting\n",
    "- Please note that games from Western publishers are not very popular in the region"
   ]
  },
  {
   "cell_type": "markdown",
   "id": "06c5f399",
   "metadata": {
    "lang": "en"
   },
   "source": [
    "<h2> Hypothesis testing </h2>"
   ]
  },
  {
   "cell_type": "markdown",
   "id": "ee7c9723",
   "metadata": {
    "lang": "en"
   },
   "source": [
    "To test the hypotheses, we choose the value alpha = 0.05"
   ]
  },
  {
   "cell_type": "code",
   "execution_count": 64,
   "id": "c532645c",
   "metadata": {},
   "outputs": [],
   "source": [
    "alpha = 0.05"
   ]
  },
  {
   "cell_type": "markdown",
   "id": "a580cf22",
   "metadata": {
    "lang": "en"
   },
   "source": [
    "<h3> Average user ratings for Xbox One and PC platforms are the same </h3>"
   ]
  },
  {
   "cell_type": "markdown",
   "id": "db85eb74",
   "metadata": {
    "lang": "en"
   },
   "source": [
    "Since H0 is formed to use the equal sign => in our case, H0 will not differ from the original formulation. In H1, we will assume that the means are not equal, since at this stage we are not interested in which direction the deviation will go (if there is one). As a verification criterion, we will take the p-value obtained using ttest."
   ]
  },
  {
   "cell_type": "markdown",
   "id": "483beacc",
   "metadata": {
    "lang": "en"
   },
   "source": [
    "H0:Average user ratings for Xbox One and PC platforms are the same\n",
    "\n",
    "H1:Average user ratings for Xbox One and PC platforms are not equal\n",
    "\n",
    "When calling the ttest_ind method, we will take the equal_var parameter as False since the size and distribution within samples can vary greatly"
   ]
  },
  {
   "cell_type": "code",
   "execution_count": 65,
   "id": "56e296b6",
   "metadata": {},
   "outputs": [
    {
     "name": "stdout",
     "output_type": "stream",
     "text": [
      "Не отвергаем гипотезу о равенстве средних пользовательских рейтингов для Xbox One и PC, p-value составило: 0.116014\n"
     ]
    }
   ],
   "source": [
    "xbox_scores = data[data['platform'] == 'XOne']['user_score'].dropna().reset_index(drop = True)\n",
    "pc_scores = data[data['platform'] == 'PC']['user_score'].dropna().reset_index(drop = True)\n",
    "t, p = sp.ttest_ind(xbox_scores, pc_scores, equal_var=False)\n",
    "if p < alpha:\n",
    "    print(f'Отвергаем гипотезу о равенстве средних пользовательских рейтингов для Xbox One и PC, p-value составило: {round(p, ndigits= 6)}')\n",
    "else:\n",
    "    print(f'Не отвергаем гипотезу о равенстве средних пользовательских рейтингов для Xbox One и PC, p-value составило: {round(p, ndigits= 6)}')"
   ]
  },
  {
   "cell_type": "markdown",
   "id": "186c57a0",
   "metadata": {
    "lang": "en"
   },
   "source": [
    "We have obtained a result that does not allow us to reject the null hypothesis (i.e. our initial assumption). However, this does not prove its correctness, but only says that the data obtained do not allow us to think otherwise."
   ]
  },
  {
   "cell_type": "markdown",
   "id": "7e187978",
   "metadata": {
    "lang": "en"
   },
   "source": [
    "<h3>Average user ratings for Action and Sports genres are different</h3>"
   ]
  },
  {
   "cell_type": "markdown",
   "id": "89d0ef5c",
   "metadata": {
    "lang": "en"
   },
   "source": [
    "H0:Average user ratings for Action and Sports genres are the same\n",
    "\n",
    "H1:Average user ratings for Action and Sports genres are different\n",
    "\n",
    "In this case, we are talking about the inequality of two means, so it is more convenient to take the opposite of the original hypothesis as the null hypothesis, i.e. equality. If the null hypothesis is true, then we reject the alternative about inequality, that is, our original hypothesis\n",
    "\n",
    "When calling the ttest_ind method, we will take the equal_var parameter as False since the size and distribution within samples can vary greatly"
   ]
  },
  {
   "cell_type": "code",
   "execution_count": 66,
   "id": "82306fc5",
   "metadata": {},
   "outputs": [
    {
     "name": "stdout",
     "output_type": "stream",
     "text": [
      "Отвергаем гипотезу о равенстве средних пользовательских рейтингов для жанров Action и Sports, p-value составило: 0.0\n"
     ]
    }
   ],
   "source": [
    "action_scores = data[data['genre'] == 'Action']['user_score'].dropna().reset_index(drop = True)\n",
    "sports_scores = data[data['genre'] == 'Sports']['user_score'].dropna().reset_index(drop = True)\n",
    "t, p = sp.ttest_ind(action_scores, sports_scores, equal_var=False)\n",
    "\n",
    "if p < alpha:\n",
    "    print(f'Отвергаем гипотезу о равенстве средних пользовательских рейтингов для жанров Action и Sports, p-value составило: {round(p, ndigits= 6)}')\n",
    "else:\n",
    "    print(f'Не отвергаем гипотезу о равенстве средних пользовательских рейтингов для жанров Action и Sports, p-value составило: {round(p, ndigits= 6)}')"
   ]
  },
  {
   "cell_type": "markdown",
   "id": "11881bd1",
   "metadata": {
    "lang": "en"
   },
   "source": [
    "The probability of getting such or an even greater deviation is millionths of a percent, so we definitely reject the null hypothesis and accept the alternative one about the inequality of user reviews for games of the Action and Sports genres. In other words, based on the data obtained, we have no reason to reject the initial hypothesis about the inequality of user ratings for the Action and Sports genres"
   ]
  },
  {
   "cell_type": "markdown",
   "id": "244d4bb4",
   "metadata": {
    "lang": "en"
   },
   "source": [
    "<h1> General conclusion </h1>"
   ]
  },
  {
   "cell_type": "markdown",
   "id": "1121b969",
   "metadata": {
    "lang": "en"
   },
   "source": [
    "<h3>Conclusion from preprocessing</h3>\n",
    "\n",
    "\n",
    ">In 2 columns, the data type was replaced with a more suitable one, almost all columns were renamed for more convenient work with them, a small part of the gaps was discarded (a little more than 1.5% of the total). We were able to find the reason for some of the omissions in the columns with reviews and age ratings (older games almost always lack this data). Added a column with total sales worldwide. What was not done: It was planned to fill in the gaps in the columns with user and critic ratings, but it was not possible to find a suitable replacement method (the only thing that came to mind from the worker was to write a code that would make a request for the name of the game and send data with ratings back. Such data could be obtained from publicly available resources (for example, Wikipedia), but I do not have the necessary skills for this. In the same way, it would be possible to fill in the gaps in the age rating.)"
   ]
  },
  {
   "cell_type": "markdown",
   "id": "5f5ed5ea",
   "metadata": {
    "lang": "en"
   },
   "source": [
    "<h3> Conclusion from data analysis </h3>"
   ]
  },
  {
   "cell_type": "markdown",
   "id": "67b7634e",
   "metadata": {
    "lang": "en"
   },
   "source": [
    "<h4>Game releases by year</h4>\n",
    "\n",
    ">We see that every year until 2010 the number of released games grew steadily, but then there was an almost halving decline until 2016. Most likely, from 2010 to 2015, developers changed the main technologies (for example, updated game engines) or, conversely, waited until the market for game consoles and PCs reaches the required technological level.\n",
    "It is also logical to assume that most of the games from 2005 to 2010 were not produced by large studios, but, on the contrary, by small teams of indie developers (perhaps at that moment applications for creating games became widely popular, allowing you to put together an indie game on your knees in a couple of weeks (to Unfortunately, I don’t see a way to verify this assumption using the available data, but a quick search on the Internet confirms this guess))\n",
    "In addition, we can now say that the data up to ~1995 is of little interest to us, since very few games were released in those years, and as we previously found out, the information content of this data is minimal (can be left only for viewing platforms popular at that time and genres)"
   ]
  },
  {
   "cell_type": "markdown",
   "id": "3ac17ad8",
   "metadata": {
    "lang": "en"
   },
   "source": [
    "<h4>Relevant platforms</h4>\n",
    "\n",
    ">The general trend in the gaming market shows that platforms have a relatively short life cycle, averaging about 10 years. The quality of games, not quantity, is the key factor in the popularity of consoles. Advertising companies play an important role in promoting a product, especially for new platforms. New generations of consoles such as Xbox ONE and PS4 have a high priority in advertising campaign planning. Platforms such as 3DS, PSV, PS3, X360 have begun to lose their relevance and should be excluded from advertising campaigns."
   ]
  },
  {
   "cell_type": "markdown",
   "id": "22047170",
   "metadata": {
    "lang": "en"
   },
   "source": [
    "<h4> Correlation between reviews and sales </h4>\n",
    "\n",
    ">The results show that there is no linear relationship between player reviews and game sales, and a weak relationship between critical reviews and sales. However, none of the values ​​reached statistical significance, meaning that accurate predictions cannot be made based on these data."
   ]
  },
  {
   "cell_type": "markdown",
   "id": "550d6342",
   "metadata": {
    "lang": "en"
   },
   "source": [
    "<h4>Sales analysis by genre</h4>\n",
    "\n",
    "> The best-selling genres were platformers, shooters, RPGs, fighting games and sports. Often such games are large AAA projects (with the exception of platformers), so such an observation is quite expected. We also see that strategy and adventure games are the worst sellers."
   ]
  },
  {
   "cell_type": "markdown",
   "id": "b96bda01",
   "metadata": {
    "lang": "en"
   },
   "source": [
    "<h3>Portrait of the average user by region</h3>"
   ]
  },
  {
   "cell_type": "markdown",
   "id": "f4e1c20d",
   "metadata": {
    "lang": "en"
   },
   "source": [
    ">North American User:\n",
    ">\n",
    ">- Most popular platforms: PS4, Xbox One, Xbox 360, PS3, 3DS\n",
    ">- Prefers games in the following genres: Shooter, Platformer, Sport, Fighting, Racing\n",
    ">- Doesn't rely heavily on ESRB ratings when choosing games, but preferences lean towards games for mature audiences\n",
    ">\n",
    ">User in Europe:\n",
    ">\n",
    ">- Most popular platforms: PS4, PS3, PC, Xbox One, 3DS\n",
    ">- Prefers games in the following genres: Racing, Shooter, Sport, Simulator, Platformer\n",
    ">- Doesn't rely heavily on ESRB ratings when choosing games, but preferences lean towards games for mature audiences\n",
    ">\n",
    ">User in Japan:\n",
    ">\n",
    ">- Most popular platforms: 3DS, PS4, PSV, PS3, WiiU\n",
    ">- Prefers games in the following genres: Puzzle, RPG, Action, Adventure, Fighting\n",
    ">- It should be noted that games from Western publishers are not very popular in the region"
   ]
  },
  {
   "cell_type": "markdown",
   "id": "31c0f882",
   "metadata": {
    "lang": "en"
   },
   "source": [
    "<h3> Hypothesis testing </h3>"
   ]
  },
  {
   "cell_type": "markdown",
   "id": "738d02e9",
   "metadata": {
    "lang": "en"
   },
   "source": [
    "<h4> Average user ratings for Xbox One and PC platforms are the same </h4>\n",
    "\n",
    ">*H0:Average user ratings for Xbox One and PC platforms are the same*\n",
    ">\n",
    ">*H1:Average user ratings for the Xbox One and PC platforms are not equal*\n",
    ">\n",
    ">We have obtained a result that does not allow us to reject the null hypothesis (i.e. our initial assumption). However, this does not prove its correctness, but only says that the data obtained do not allow us to think otherwise."
   ]
  },
  {
   "cell_type": "markdown",
   "id": "9d340ada",
   "metadata": {
    "lang": "en"
   },
   "source": [
    "<h4>Average user ratings for Action and Sports genres are different</h4>\n",
    "\n",
    "*H0:Average user ratings for Action and Sports genres are the same*\n",
    ">\n",
    ">*H1:Average user ratings for Action and Sports genres are different*\n",
    ">\n",
    ">We reject the hypothesis of equality of average user ratings for the Action and Sports genres, p-value was: 5e-06\n",
    ">The probability of getting such or an even greater deviation is millionths of a percent, so we definitely reject the null hypothesis and accept the alternative one about the inequality of user reviews for games of the Action and Sports genres. In other words, based on the data obtained, we have no reason to reject the initial hypothesis about the inequality of user ratings for the genres >Action and Sports"
   ]
  },
  {
   "cell_type": "markdown",
   "id": "87d70ad3",
   "metadata": {
    "lang": "en"
   },
   "source": [
    "<h3>What are we advertising</h3>"
   ]
  },
  {
   "cell_type": "markdown",
   "id": "0ff73439",
   "metadata": {
    "lang": "en"
   },
   "source": [
    "First of all, it is worth giving priority to users from North America and Europe, since these regions account for the majority of sales. In terms of platforms, you should give preference to new favorites: PS4 and XOne. You can take a platform game or a sports game, but a shooter seems to be the best choice. It is also worth choosing games for an adult audience, or without an age rating at all, but this has a big impact. Also, when choosing, you should look at reviews from critics, but this should not be a decisive factor, but you definitely shouldn’t judge possible sales based on user reviews."
   ]
  }
 ],
 "metadata": {
  "ExecuteTimeLog": [
   {
    "duration": 1580,
    "start_time": "2023-04-19T17:35:35.980Z"
   },
   {
    "duration": 281,
    "start_time": "2023-04-19T17:35:37.562Z"
   },
   {
    "duration": 0,
    "start_time": "2023-04-19T17:35:37.850Z"
   },
   {
    "duration": 0,
    "start_time": "2023-04-19T17:35:37.852Z"
   },
   {
    "duration": 0,
    "start_time": "2023-04-19T17:35:37.854Z"
   },
   {
    "duration": 0,
    "start_time": "2023-04-19T17:35:37.855Z"
   },
   {
    "duration": 0,
    "start_time": "2023-04-19T17:35:37.856Z"
   },
   {
    "duration": 0,
    "start_time": "2023-04-19T17:35:37.857Z"
   },
   {
    "duration": 0,
    "start_time": "2023-04-19T17:35:37.858Z"
   },
   {
    "duration": 0,
    "start_time": "2023-04-19T17:35:37.859Z"
   },
   {
    "duration": 0,
    "start_time": "2023-04-19T17:35:37.861Z"
   },
   {
    "duration": 0,
    "start_time": "2023-04-19T17:35:37.862Z"
   },
   {
    "duration": 0,
    "start_time": "2023-04-19T17:35:37.864Z"
   },
   {
    "duration": 0,
    "start_time": "2023-04-19T17:35:37.865Z"
   },
   {
    "duration": 1,
    "start_time": "2023-04-19T17:35:37.870Z"
   },
   {
    "duration": 0,
    "start_time": "2023-04-19T17:35:37.872Z"
   },
   {
    "duration": 0,
    "start_time": "2023-04-19T17:35:37.873Z"
   },
   {
    "duration": 0,
    "start_time": "2023-04-19T17:35:37.874Z"
   },
   {
    "duration": 0,
    "start_time": "2023-04-19T17:35:37.876Z"
   },
   {
    "duration": 0,
    "start_time": "2023-04-19T17:35:37.878Z"
   },
   {
    "duration": 0,
    "start_time": "2023-04-19T17:35:37.879Z"
   },
   {
    "duration": 0,
    "start_time": "2023-04-19T17:35:37.881Z"
   },
   {
    "duration": 0,
    "start_time": "2023-04-19T17:35:37.882Z"
   },
   {
    "duration": 0,
    "start_time": "2023-04-19T17:35:37.884Z"
   },
   {
    "duration": 0,
    "start_time": "2023-04-19T17:35:37.886Z"
   },
   {
    "duration": 0,
    "start_time": "2023-04-19T17:35:37.887Z"
   },
   {
    "duration": 0,
    "start_time": "2023-04-19T17:35:37.888Z"
   },
   {
    "duration": 0,
    "start_time": "2023-04-19T17:35:37.889Z"
   },
   {
    "duration": 0,
    "start_time": "2023-04-19T17:35:37.889Z"
   },
   {
    "duration": 0,
    "start_time": "2023-04-19T17:35:37.890Z"
   },
   {
    "duration": 0,
    "start_time": "2023-04-19T17:35:37.891Z"
   },
   {
    "duration": 0,
    "start_time": "2023-04-19T17:35:37.893Z"
   },
   {
    "duration": 0,
    "start_time": "2023-04-19T17:35:37.894Z"
   },
   {
    "duration": 0,
    "start_time": "2023-04-19T17:35:37.897Z"
   },
   {
    "duration": 0,
    "start_time": "2023-04-19T17:35:37.898Z"
   },
   {
    "duration": 0,
    "start_time": "2023-04-19T17:35:37.899Z"
   },
   {
    "duration": 0,
    "start_time": "2023-04-19T17:35:37.900Z"
   },
   {
    "duration": 0,
    "start_time": "2023-04-19T17:35:37.903Z"
   },
   {
    "duration": 0,
    "start_time": "2023-04-19T17:35:37.904Z"
   },
   {
    "duration": 0,
    "start_time": "2023-04-19T17:35:37.937Z"
   },
   {
    "duration": 0,
    "start_time": "2023-04-19T17:35:37.938Z"
   },
   {
    "duration": 0,
    "start_time": "2023-04-19T17:35:37.940Z"
   },
   {
    "duration": 0,
    "start_time": "2023-04-19T17:35:37.951Z"
   },
   {
    "duration": 0,
    "start_time": "2023-04-19T17:35:37.954Z"
   },
   {
    "duration": 0,
    "start_time": "2023-04-19T17:35:37.957Z"
   },
   {
    "duration": 0,
    "start_time": "2023-04-19T17:35:37.960Z"
   },
   {
    "duration": 0,
    "start_time": "2023-04-19T17:35:37.972Z"
   },
   {
    "duration": 0,
    "start_time": "2023-04-19T17:35:37.974Z"
   },
   {
    "duration": 0,
    "start_time": "2023-04-19T17:35:37.976Z"
   },
   {
    "duration": 0,
    "start_time": "2023-04-19T17:35:37.977Z"
   },
   {
    "duration": 0,
    "start_time": "2023-04-19T17:35:37.979Z"
   },
   {
    "duration": 0,
    "start_time": "2023-04-19T17:35:37.981Z"
   },
   {
    "duration": 0,
    "start_time": "2023-04-19T17:35:37.983Z"
   },
   {
    "duration": 0,
    "start_time": "2023-04-19T17:35:37.984Z"
   },
   {
    "duration": 0,
    "start_time": "2023-04-19T17:35:37.986Z"
   },
   {
    "duration": 0,
    "start_time": "2023-04-19T17:35:37.988Z"
   },
   {
    "duration": 1145,
    "start_time": "2023-04-21T10:12:25.845Z"
   },
   {
    "duration": 183,
    "start_time": "2023-04-21T10:12:26.994Z"
   },
   {
    "duration": 0,
    "start_time": "2023-04-21T10:12:27.181Z"
   },
   {
    "duration": 0,
    "start_time": "2023-04-21T10:12:27.182Z"
   },
   {
    "duration": 0,
    "start_time": "2023-04-21T10:12:27.184Z"
   },
   {
    "duration": 0,
    "start_time": "2023-04-21T10:12:27.190Z"
   },
   {
    "duration": 0,
    "start_time": "2023-04-21T10:12:27.191Z"
   },
   {
    "duration": 0,
    "start_time": "2023-04-21T10:12:27.200Z"
   },
   {
    "duration": 0,
    "start_time": "2023-04-21T10:12:27.202Z"
   },
   {
    "duration": 0,
    "start_time": "2023-04-21T10:12:27.203Z"
   },
   {
    "duration": 0,
    "start_time": "2023-04-21T10:12:27.205Z"
   },
   {
    "duration": 0,
    "start_time": "2023-04-21T10:12:27.206Z"
   },
   {
    "duration": 0,
    "start_time": "2023-04-21T10:12:27.207Z"
   },
   {
    "duration": 0,
    "start_time": "2023-04-21T10:12:27.207Z"
   },
   {
    "duration": 0,
    "start_time": "2023-04-21T10:12:27.208Z"
   },
   {
    "duration": 0,
    "start_time": "2023-04-21T10:12:27.209Z"
   },
   {
    "duration": 0,
    "start_time": "2023-04-21T10:12:27.210Z"
   },
   {
    "duration": 0,
    "start_time": "2023-04-21T10:12:27.216Z"
   },
   {
    "duration": 0,
    "start_time": "2023-04-21T10:12:27.218Z"
   },
   {
    "duration": 0,
    "start_time": "2023-04-21T10:12:27.219Z"
   },
   {
    "duration": 0,
    "start_time": "2023-04-21T10:12:27.220Z"
   },
   {
    "duration": 0,
    "start_time": "2023-04-21T10:12:27.221Z"
   },
   {
    "duration": 0,
    "start_time": "2023-04-21T10:12:27.223Z"
   },
   {
    "duration": 0,
    "start_time": "2023-04-21T10:12:27.225Z"
   },
   {
    "duration": 0,
    "start_time": "2023-04-21T10:12:27.225Z"
   },
   {
    "duration": 0,
    "start_time": "2023-04-21T10:12:27.227Z"
   },
   {
    "duration": 0,
    "start_time": "2023-04-21T10:12:27.228Z"
   },
   {
    "duration": 0,
    "start_time": "2023-04-21T10:12:27.229Z"
   },
   {
    "duration": 0,
    "start_time": "2023-04-21T10:12:27.230Z"
   },
   {
    "duration": 0,
    "start_time": "2023-04-21T10:12:27.231Z"
   },
   {
    "duration": 0,
    "start_time": "2023-04-21T10:12:27.232Z"
   },
   {
    "duration": 0,
    "start_time": "2023-04-21T10:12:27.233Z"
   },
   {
    "duration": 0,
    "start_time": "2023-04-21T10:12:27.234Z"
   },
   {
    "duration": 0,
    "start_time": "2023-04-21T10:12:27.235Z"
   },
   {
    "duration": 0,
    "start_time": "2023-04-21T10:12:27.237Z"
   },
   {
    "duration": 0,
    "start_time": "2023-04-21T10:12:27.238Z"
   },
   {
    "duration": 0,
    "start_time": "2023-04-21T10:12:27.239Z"
   },
   {
    "duration": 0,
    "start_time": "2023-04-21T10:12:27.285Z"
   },
   {
    "duration": 0,
    "start_time": "2023-04-21T10:12:27.286Z"
   },
   {
    "duration": 0,
    "start_time": "2023-04-21T10:12:27.288Z"
   },
   {
    "duration": 0,
    "start_time": "2023-04-21T10:12:27.290Z"
   },
   {
    "duration": 0,
    "start_time": "2023-04-21T10:12:27.291Z"
   },
   {
    "duration": 0,
    "start_time": "2023-04-21T10:12:27.293Z"
   },
   {
    "duration": 0,
    "start_time": "2023-04-21T10:12:27.294Z"
   },
   {
    "duration": 0,
    "start_time": "2023-04-21T10:12:27.295Z"
   },
   {
    "duration": 0,
    "start_time": "2023-04-21T10:12:27.296Z"
   },
   {
    "duration": 0,
    "start_time": "2023-04-21T10:12:27.297Z"
   },
   {
    "duration": 0,
    "start_time": "2023-04-21T10:12:27.297Z"
   },
   {
    "duration": 0,
    "start_time": "2023-04-21T10:12:27.298Z"
   },
   {
    "duration": 0,
    "start_time": "2023-04-21T10:12:27.301Z"
   },
   {
    "duration": 0,
    "start_time": "2023-04-21T10:12:27.302Z"
   },
   {
    "duration": 0,
    "start_time": "2023-04-21T10:12:27.303Z"
   },
   {
    "duration": 0,
    "start_time": "2023-04-21T10:12:27.304Z"
   },
   {
    "duration": 0,
    "start_time": "2023-04-21T10:12:27.305Z"
   },
   {
    "duration": 0,
    "start_time": "2023-04-21T10:12:27.306Z"
   },
   {
    "duration": 0,
    "start_time": "2023-04-21T10:12:27.307Z"
   },
   {
    "duration": 1174,
    "start_time": "2023-04-22T01:29:19.580Z"
   },
   {
    "duration": 69,
    "start_time": "2023-04-22T01:29:20.756Z"
   },
   {
    "duration": 14,
    "start_time": "2023-04-22T01:29:20.827Z"
   },
   {
    "duration": 12,
    "start_time": "2023-04-22T01:29:20.843Z"
   },
   {
    "duration": 592,
    "start_time": "2023-04-22T01:29:20.856Z"
   },
   {
    "duration": 15,
    "start_time": "2023-04-22T01:29:21.449Z"
   },
   {
    "duration": 24,
    "start_time": "2023-04-22T01:29:21.466Z"
   },
   {
    "duration": 4,
    "start_time": "2023-04-22T01:29:21.492Z"
   },
   {
    "duration": 4,
    "start_time": "2023-04-22T01:29:21.497Z"
   },
   {
    "duration": 5,
    "start_time": "2023-04-22T01:29:21.504Z"
   },
   {
    "duration": 24,
    "start_time": "2023-04-22T01:29:21.510Z"
   },
   {
    "duration": 6,
    "start_time": "2023-04-22T01:29:21.536Z"
   },
   {
    "duration": 10,
    "start_time": "2023-04-22T01:29:21.543Z"
   },
   {
    "duration": 45,
    "start_time": "2023-04-22T01:29:21.555Z"
   },
   {
    "duration": 16,
    "start_time": "2023-04-22T01:29:21.602Z"
   },
   {
    "duration": 14,
    "start_time": "2023-04-22T01:29:21.619Z"
   },
   {
    "duration": 8,
    "start_time": "2023-04-22T01:29:21.635Z"
   },
   {
    "duration": 5,
    "start_time": "2023-04-22T01:29:21.645Z"
   },
   {
    "duration": 44,
    "start_time": "2023-04-22T01:29:21.652Z"
   },
   {
    "duration": 7,
    "start_time": "2023-04-22T01:29:21.698Z"
   },
   {
    "duration": 12,
    "start_time": "2023-04-22T01:29:21.707Z"
   },
   {
    "duration": 278,
    "start_time": "2023-04-22T01:29:21.721Z"
   },
   {
    "duration": 209,
    "start_time": "2023-04-22T01:29:22.001Z"
   },
   {
    "duration": 6,
    "start_time": "2023-04-22T01:29:22.212Z"
   },
   {
    "duration": 37,
    "start_time": "2023-04-22T01:29:22.220Z"
   },
   {
    "duration": 38,
    "start_time": "2023-04-22T01:29:22.259Z"
   },
   {
    "duration": 5,
    "start_time": "2023-04-22T01:29:22.299Z"
   },
   {
    "duration": 194,
    "start_time": "2023-04-22T01:29:22.307Z"
   },
   {
    "duration": 11,
    "start_time": "2023-04-22T01:29:22.503Z"
   },
   {
    "duration": 5,
    "start_time": "2023-04-22T01:29:22.516Z"
   },
   {
    "duration": 9,
    "start_time": "2023-04-22T01:29:22.522Z"
   },
   {
    "duration": 207,
    "start_time": "2023-04-22T01:29:22.533Z"
   },
   {
    "duration": 7,
    "start_time": "2023-04-22T01:29:22.741Z"
   },
   {
    "duration": 192,
    "start_time": "2023-04-22T01:29:22.749Z"
   },
   {
    "duration": 7,
    "start_time": "2023-04-22T01:29:22.943Z"
   },
   {
    "duration": 228,
    "start_time": "2023-04-22T01:29:22.952Z"
   },
   {
    "duration": 306,
    "start_time": "2023-04-22T01:29:23.185Z"
   },
   {
    "duration": 216,
    "start_time": "2023-04-22T01:29:23.493Z"
   },
   {
    "duration": 14,
    "start_time": "2023-04-22T01:29:23.710Z"
   },
   {
    "duration": 10,
    "start_time": "2023-04-22T01:29:23.726Z"
   },
   {
    "duration": 98,
    "start_time": "2023-04-22T01:29:23.738Z"
   },
   {
    "duration": 206,
    "start_time": "2023-04-22T01:29:23.838Z"
   },
   {
    "duration": 11,
    "start_time": "2023-04-22T01:29:24.046Z"
   },
   {
    "duration": 269,
    "start_time": "2023-04-22T01:29:24.058Z"
   },
   {
    "duration": 4,
    "start_time": "2023-04-22T01:29:24.329Z"
   },
   {
    "duration": 10,
    "start_time": "2023-04-22T01:29:24.334Z"
   },
   {
    "duration": 274,
    "start_time": "2023-04-22T01:29:24.345Z"
   },
   {
    "duration": 21,
    "start_time": "2023-04-22T01:29:24.621Z"
   },
   {
    "duration": 263,
    "start_time": "2023-04-22T01:29:24.644Z"
   },
   {
    "duration": 13,
    "start_time": "2023-04-22T01:29:24.908Z"
   },
   {
    "duration": 270,
    "start_time": "2023-04-22T01:29:24.922Z"
   },
   {
    "duration": 13,
    "start_time": "2023-04-22T01:29:25.193Z"
   },
   {
    "duration": 323,
    "start_time": "2023-04-22T01:29:25.208Z"
   },
   {
    "duration": 3,
    "start_time": "2023-04-22T01:29:25.533Z"
   },
   {
    "duration": 14,
    "start_time": "2023-04-22T01:29:25.537Z"
   },
   {
    "duration": 10,
    "start_time": "2023-04-22T01:29:25.553Z"
   },
   {
    "duration": 1888,
    "start_time": "2023-04-22T01:34:57.970Z"
   },
   {
    "duration": 95,
    "start_time": "2023-04-22T01:35:13.915Z"
   },
   {
    "duration": 13,
    "start_time": "2023-04-22T01:39:39.747Z"
   },
   {
    "duration": 24,
    "start_time": "2023-04-22T01:39:50.123Z"
   },
   {
    "duration": 23,
    "start_time": "2023-04-22T01:44:00.487Z"
   },
   {
    "duration": 4,
    "start_time": "2023-04-22T01:44:14.022Z"
   },
   {
    "duration": 9,
    "start_time": "2023-04-22T01:51:37.869Z"
   },
   {
    "duration": 1249,
    "start_time": "2023-04-24T18:41:28.470Z"
   },
   {
    "duration": 457,
    "start_time": "2023-04-24T18:41:29.722Z"
   },
   {
    "duration": 16,
    "start_time": "2023-04-24T18:41:30.181Z"
   },
   {
    "duration": 30,
    "start_time": "2023-04-24T18:41:30.199Z"
   },
   {
    "duration": 674,
    "start_time": "2023-04-24T18:41:30.232Z"
   },
   {
    "duration": 16,
    "start_time": "2023-04-24T18:41:30.907Z"
   },
   {
    "duration": 27,
    "start_time": "2023-04-24T18:41:30.925Z"
   },
   {
    "duration": 25,
    "start_time": "2023-04-24T18:41:30.953Z"
   },
   {
    "duration": 42,
    "start_time": "2023-04-24T18:41:30.980Z"
   },
   {
    "duration": 17,
    "start_time": "2023-04-24T18:41:31.023Z"
   },
   {
    "duration": 18,
    "start_time": "2023-04-24T18:41:31.042Z"
   },
   {
    "duration": 23,
    "start_time": "2023-04-24T18:41:31.062Z"
   },
   {
    "duration": 72,
    "start_time": "2023-04-24T18:41:31.087Z"
   },
   {
    "duration": 26,
    "start_time": "2023-04-24T18:41:31.162Z"
   },
   {
    "duration": 42,
    "start_time": "2023-04-24T18:41:31.190Z"
   },
   {
    "duration": 45,
    "start_time": "2023-04-24T18:41:31.233Z"
   },
   {
    "duration": 24,
    "start_time": "2023-04-24T18:41:31.280Z"
   },
   {
    "duration": 28,
    "start_time": "2023-04-24T18:41:31.306Z"
   },
   {
    "duration": 26,
    "start_time": "2023-04-24T18:41:31.336Z"
   },
   {
    "duration": 18,
    "start_time": "2023-04-24T18:41:31.363Z"
   },
   {
    "duration": 39,
    "start_time": "2023-04-24T18:41:31.383Z"
   },
   {
    "duration": 22,
    "start_time": "2023-04-24T18:41:31.424Z"
   },
   {
    "duration": 34,
    "start_time": "2023-04-24T18:41:31.448Z"
   },
   {
    "duration": 283,
    "start_time": "2023-04-24T18:41:31.483Z"
   },
   {
    "duration": 270,
    "start_time": "2023-04-24T18:41:31.768Z"
   },
   {
    "duration": 8,
    "start_time": "2023-04-24T18:41:32.040Z"
   },
   {
    "duration": 44,
    "start_time": "2023-04-24T18:41:32.050Z"
   },
   {
    "duration": 46,
    "start_time": "2023-04-24T18:41:32.095Z"
   },
   {
    "duration": 20,
    "start_time": "2023-04-24T18:41:32.142Z"
   },
   {
    "duration": 81,
    "start_time": "2023-04-24T18:41:32.164Z"
   },
   {
    "duration": 211,
    "start_time": "2023-04-24T18:41:32.247Z"
   },
   {
    "duration": 12,
    "start_time": "2023-04-24T18:41:32.460Z"
   },
   {
    "duration": 20,
    "start_time": "2023-04-24T18:41:32.473Z"
   },
   {
    "duration": 7,
    "start_time": "2023-04-24T18:41:32.495Z"
   },
   {
    "duration": 223,
    "start_time": "2023-04-24T18:41:32.504Z"
   },
   {
    "duration": 25,
    "start_time": "2023-04-24T18:41:32.729Z"
   },
   {
    "duration": 8,
    "start_time": "2023-04-24T18:41:32.755Z"
   },
   {
    "duration": 267,
    "start_time": "2023-04-24T18:41:32.764Z"
   },
   {
    "duration": 363,
    "start_time": "2023-04-24T18:41:33.033Z"
   },
   {
    "duration": 3,
    "start_time": "2023-04-24T18:41:33.397Z"
   },
   {
    "duration": 258,
    "start_time": "2023-04-24T18:41:33.404Z"
   },
   {
    "duration": 264,
    "start_time": "2023-04-24T18:41:33.664Z"
   },
   {
    "duration": 2,
    "start_time": "2023-04-24T18:41:33.930Z"
   },
   {
    "duration": 13,
    "start_time": "2023-04-24T18:41:33.934Z"
   },
   {
    "duration": 8,
    "start_time": "2023-04-24T18:41:33.949Z"
   },
   {
    "duration": 5,
    "start_time": "2023-04-24T18:41:33.959Z"
   },
   {
    "duration": 24,
    "start_time": "2023-04-24T18:41:33.993Z"
   },
   {
    "duration": 710,
    "start_time": "2023-04-24T18:41:34.019Z"
   },
   {
    "duration": 164,
    "start_time": "2023-04-24T18:41:34.731Z"
   },
   {
    "duration": 379,
    "start_time": "2023-04-24T18:41:34.897Z"
   },
   {
    "duration": 127,
    "start_time": "2023-04-24T18:41:35.278Z"
   },
   {
    "duration": 20,
    "start_time": "2023-04-24T18:41:35.407Z"
   },
   {
    "duration": 338,
    "start_time": "2023-04-24T18:41:35.429Z"
   },
   {
    "duration": 28,
    "start_time": "2023-04-24T18:41:35.768Z"
   },
   {
    "duration": 297,
    "start_time": "2023-04-24T18:41:35.798Z"
   },
   {
    "duration": 4,
    "start_time": "2023-04-24T18:41:36.096Z"
   },
   {
    "duration": 20,
    "start_time": "2023-04-24T18:41:36.102Z"
   },
   {
    "duration": 279,
    "start_time": "2023-04-24T18:41:36.124Z"
   },
   {
    "duration": 10,
    "start_time": "2023-04-24T18:41:36.405Z"
   },
   {
    "duration": 7,
    "start_time": "2023-04-24T18:41:36.417Z"
   },
   {
    "duration": 9,
    "start_time": "2023-04-24T18:41:36.426Z"
   },
   {
    "duration": 10,
    "start_time": "2023-04-24T18:41:36.437Z"
   },
   {
    "duration": 1345,
    "start_time": "2023-04-25T12:41:28.476Z"
   },
   {
    "duration": 223,
    "start_time": "2023-04-25T12:41:29.823Z"
   },
   {
    "duration": 14,
    "start_time": "2023-04-25T12:41:30.047Z"
   },
   {
    "duration": 16,
    "start_time": "2023-04-25T12:41:30.063Z"
   },
   {
    "duration": 548,
    "start_time": "2023-04-25T12:41:30.080Z"
   },
   {
    "duration": 17,
    "start_time": "2023-04-25T12:41:30.630Z"
   },
   {
    "duration": 31,
    "start_time": "2023-04-25T12:41:30.649Z"
   },
   {
    "duration": 8,
    "start_time": "2023-04-25T12:41:30.682Z"
   },
   {
    "duration": 40,
    "start_time": "2023-04-25T12:41:30.691Z"
   },
   {
    "duration": 19,
    "start_time": "2023-04-25T12:41:30.733Z"
   },
   {
    "duration": 24,
    "start_time": "2023-04-25T12:41:30.753Z"
   },
   {
    "duration": 39,
    "start_time": "2023-04-25T12:41:30.779Z"
   },
   {
    "duration": 53,
    "start_time": "2023-04-25T12:41:30.820Z"
   },
   {
    "duration": 10,
    "start_time": "2023-04-25T12:41:30.874Z"
   },
   {
    "duration": 60,
    "start_time": "2023-04-25T12:41:30.886Z"
   },
   {
    "duration": 39,
    "start_time": "2023-04-25T12:41:30.947Z"
   },
   {
    "duration": 30,
    "start_time": "2023-04-25T12:41:30.988Z"
   },
   {
    "duration": 35,
    "start_time": "2023-04-25T12:41:31.020Z"
   },
   {
    "duration": 23,
    "start_time": "2023-04-25T12:41:31.056Z"
   },
   {
    "duration": 21,
    "start_time": "2023-04-25T12:41:31.080Z"
   },
   {
    "duration": 37,
    "start_time": "2023-04-25T12:41:31.103Z"
   },
   {
    "duration": 16,
    "start_time": "2023-04-25T12:41:31.141Z"
   },
   {
    "duration": 33,
    "start_time": "2023-04-25T12:41:31.159Z"
   },
   {
    "duration": 244,
    "start_time": "2023-04-25T12:41:31.193Z"
   },
   {
    "duration": 209,
    "start_time": "2023-04-25T12:41:31.438Z"
   },
   {
    "duration": 6,
    "start_time": "2023-04-25T12:41:31.649Z"
   },
   {
    "duration": 27,
    "start_time": "2023-04-25T12:41:31.656Z"
   },
   {
    "duration": 17,
    "start_time": "2023-04-25T12:41:31.686Z"
   },
   {
    "duration": 43,
    "start_time": "2023-04-25T12:41:31.704Z"
   },
   {
    "duration": 77,
    "start_time": "2023-04-25T12:41:31.749Z"
   },
   {
    "duration": 181,
    "start_time": "2023-04-25T12:41:31.827Z"
   },
   {
    "duration": 16,
    "start_time": "2023-04-25T12:41:32.010Z"
   },
   {
    "duration": 26,
    "start_time": "2023-04-25T12:41:32.028Z"
   },
   {
    "duration": 20,
    "start_time": "2023-04-25T12:41:32.056Z"
   },
   {
    "duration": 191,
    "start_time": "2023-04-25T12:41:32.077Z"
   },
   {
    "duration": 27,
    "start_time": "2023-04-25T12:41:32.271Z"
   },
   {
    "duration": 23,
    "start_time": "2023-04-25T12:41:32.299Z"
   },
   {
    "duration": 238,
    "start_time": "2023-04-25T12:41:32.324Z"
   },
   {
    "duration": 306,
    "start_time": "2023-04-25T12:41:32.564Z"
   },
   {
    "duration": 3,
    "start_time": "2023-04-25T12:41:32.871Z"
   },
   {
    "duration": 230,
    "start_time": "2023-04-25T12:41:32.875Z"
   },
   {
    "duration": 227,
    "start_time": "2023-04-25T12:41:33.106Z"
   },
   {
    "duration": 3,
    "start_time": "2023-04-25T12:41:33.334Z"
   },
   {
    "duration": 17,
    "start_time": "2023-04-25T12:41:33.338Z"
   },
   {
    "duration": 8,
    "start_time": "2023-04-25T12:41:33.356Z"
   },
   {
    "duration": 4,
    "start_time": "2023-04-25T12:41:33.365Z"
   },
   {
    "duration": 19,
    "start_time": "2023-04-25T12:41:33.371Z"
   },
   {
    "duration": 2,
    "start_time": "2023-04-25T12:41:33.418Z"
   },
   {
    "duration": 4,
    "start_time": "2023-04-25T12:41:33.422Z"
   },
   {
    "duration": 794,
    "start_time": "2023-04-25T12:41:33.429Z"
   },
   {
    "duration": 735,
    "start_time": "2023-04-25T12:41:34.224Z"
   },
   {
    "duration": 157,
    "start_time": "2023-04-25T12:41:34.960Z"
   },
   {
    "duration": 323,
    "start_time": "2023-04-25T12:41:35.119Z"
   },
   {
    "duration": 120,
    "start_time": "2023-04-25T12:41:35.444Z"
   },
   {
    "duration": 18,
    "start_time": "2023-04-25T12:41:35.566Z"
   },
   {
    "duration": 310,
    "start_time": "2023-04-25T12:41:35.586Z"
   },
   {
    "duration": 16,
    "start_time": "2023-04-25T12:41:35.897Z"
   },
   {
    "duration": 274,
    "start_time": "2023-04-25T12:41:35.915Z"
   },
   {
    "duration": 4,
    "start_time": "2023-04-25T12:41:36.190Z"
   },
   {
    "duration": 24,
    "start_time": "2023-04-25T12:41:36.195Z"
   },
   {
    "duration": 236,
    "start_time": "2023-04-25T12:41:36.221Z"
   },
   {
    "duration": 7,
    "start_time": "2023-04-25T12:41:36.459Z"
   },
   {
    "duration": 3,
    "start_time": "2023-04-25T12:41:36.467Z"
   },
   {
    "duration": 8,
    "start_time": "2023-04-25T12:41:36.471Z"
   },
   {
    "duration": 13,
    "start_time": "2023-04-25T12:41:36.480Z"
   },
   {
    "duration": 1180,
    "start_time": "2023-04-25T12:45:40.116Z"
   },
   {
    "duration": 67,
    "start_time": "2023-04-25T12:45:41.297Z"
   },
   {
    "duration": 13,
    "start_time": "2023-04-25T12:45:41.365Z"
   },
   {
    "duration": 11,
    "start_time": "2023-04-25T12:45:41.380Z"
   },
   {
    "duration": 551,
    "start_time": "2023-04-25T12:45:41.393Z"
   },
   {
    "duration": 15,
    "start_time": "2023-04-25T12:45:41.946Z"
   },
   {
    "duration": 16,
    "start_time": "2023-04-25T12:45:41.962Z"
   },
   {
    "duration": 3,
    "start_time": "2023-04-25T12:45:41.980Z"
   },
   {
    "duration": 9,
    "start_time": "2023-04-25T12:45:41.984Z"
   },
   {
    "duration": 24,
    "start_time": "2023-04-25T12:45:41.995Z"
   },
   {
    "duration": 3,
    "start_time": "2023-04-25T12:45:42.020Z"
   },
   {
    "duration": 6,
    "start_time": "2023-04-25T12:45:42.024Z"
   },
   {
    "duration": 22,
    "start_time": "2023-04-25T12:45:42.031Z"
   },
   {
    "duration": 6,
    "start_time": "2023-04-25T12:45:42.055Z"
   },
   {
    "duration": 6,
    "start_time": "2023-04-25T12:45:42.063Z"
   },
   {
    "duration": 15,
    "start_time": "2023-04-25T12:45:42.070Z"
   },
   {
    "duration": 15,
    "start_time": "2023-04-25T12:45:42.118Z"
   },
   {
    "duration": 15,
    "start_time": "2023-04-25T12:45:42.134Z"
   },
   {
    "duration": 8,
    "start_time": "2023-04-25T12:45:42.151Z"
   },
   {
    "duration": 6,
    "start_time": "2023-04-25T12:45:42.160Z"
   },
   {
    "duration": 13,
    "start_time": "2023-04-25T12:45:42.167Z"
   },
   {
    "duration": 37,
    "start_time": "2023-04-25T12:45:42.181Z"
   },
   {
    "duration": 12,
    "start_time": "2023-04-25T12:45:42.219Z"
   },
   {
    "duration": 260,
    "start_time": "2023-04-25T12:45:42.233Z"
   },
   {
    "duration": 198,
    "start_time": "2023-04-25T12:45:42.495Z"
   },
   {
    "duration": 6,
    "start_time": "2023-04-25T12:45:42.695Z"
   },
   {
    "duration": 26,
    "start_time": "2023-04-25T12:45:42.703Z"
   },
   {
    "duration": 13,
    "start_time": "2023-04-25T12:45:42.732Z"
   },
   {
    "duration": 4,
    "start_time": "2023-04-25T12:45:42.747Z"
   },
   {
    "duration": 92,
    "start_time": "2023-04-25T12:45:42.752Z"
   },
   {
    "duration": 176,
    "start_time": "2023-04-25T12:45:42.846Z"
   },
   {
    "duration": 11,
    "start_time": "2023-04-25T12:45:43.023Z"
   },
   {
    "duration": 4,
    "start_time": "2023-04-25T12:45:43.036Z"
   },
   {
    "duration": 9,
    "start_time": "2023-04-25T12:45:43.041Z"
   },
   {
    "duration": 201,
    "start_time": "2023-04-25T12:45:43.052Z"
   },
   {
    "duration": 24,
    "start_time": "2023-04-25T12:45:43.255Z"
   },
   {
    "duration": 7,
    "start_time": "2023-04-25T12:45:43.280Z"
   },
   {
    "duration": 246,
    "start_time": "2023-04-25T12:45:43.288Z"
   },
   {
    "duration": 315,
    "start_time": "2023-04-25T12:45:43.536Z"
   },
   {
    "duration": 3,
    "start_time": "2023-04-25T12:45:43.853Z"
   },
   {
    "duration": 227,
    "start_time": "2023-04-25T12:45:43.858Z"
   },
   {
    "duration": 225,
    "start_time": "2023-04-25T12:45:44.087Z"
   },
   {
    "duration": 5,
    "start_time": "2023-04-25T12:45:44.313Z"
   },
   {
    "duration": 5,
    "start_time": "2023-04-25T12:45:44.319Z"
   },
   {
    "duration": 17,
    "start_time": "2023-04-25T12:45:44.325Z"
   },
   {
    "duration": 7,
    "start_time": "2023-04-25T12:45:44.343Z"
   },
   {
    "duration": 4,
    "start_time": "2023-04-25T12:45:44.352Z"
   },
   {
    "duration": 17,
    "start_time": "2023-04-25T12:45:44.357Z"
   },
   {
    "duration": 2,
    "start_time": "2023-04-25T12:45:44.375Z"
   },
   {
    "duration": 3,
    "start_time": "2023-04-25T12:45:44.379Z"
   },
   {
    "duration": 771,
    "start_time": "2023-04-25T12:45:44.384Z"
   },
   {
    "duration": 1298,
    "start_time": "2023-04-25T12:45:45.157Z"
   },
   {
    "duration": 378,
    "start_time": "2023-04-25T12:45:46.456Z"
   },
   {
    "duration": 361,
    "start_time": "2023-04-25T12:45:46.835Z"
   },
   {
    "duration": 152,
    "start_time": "2023-04-25T12:45:47.197Z"
   },
   {
    "duration": 22,
    "start_time": "2023-04-25T12:45:47.351Z"
   },
   {
    "duration": 334,
    "start_time": "2023-04-25T12:45:47.374Z"
   },
   {
    "duration": 17,
    "start_time": "2023-04-25T12:45:47.709Z"
   },
   {
    "duration": 259,
    "start_time": "2023-04-25T12:45:47.728Z"
   },
   {
    "duration": 4,
    "start_time": "2023-04-25T12:45:47.989Z"
   },
   {
    "duration": 22,
    "start_time": "2023-04-25T12:45:47.995Z"
   },
   {
    "duration": 249,
    "start_time": "2023-04-25T12:45:48.019Z"
   },
   {
    "duration": 9,
    "start_time": "2023-04-25T12:45:48.269Z"
   },
   {
    "duration": 6,
    "start_time": "2023-04-25T12:45:48.279Z"
   },
   {
    "duration": 12,
    "start_time": "2023-04-25T12:45:48.286Z"
   },
   {
    "duration": 23,
    "start_time": "2023-04-25T12:45:48.299Z"
   },
   {
    "duration": 23,
    "start_time": "2023-04-25T12:49:59.218Z"
   },
   {
    "duration": 4,
    "start_time": "2023-04-25T12:50:11.746Z"
   },
   {
    "duration": 2389,
    "start_time": "2023-04-25T12:56:00.521Z"
   }
  ],
  "kernelspec": {
   "display_name": "Python 3 (ipykernel)",
   "language": "python",
   "name": "python3"
  },
  "language_info": {
   "codemirror_mode": {
    "name": "ipython",
    "version": 3
   },
   "file_extension": ".py",
   "mimetype": "text/x-python",
   "name": "python",
   "nbconvert_exporter": "python",
   "pygments_lexer": "ipython3",
   "version": "3.9.13"
  },
  "nbTranslate": {
   "displayLangs": [
    "*"
   ],
   "hotkey": "alt-t",
   "langInMainMenu": true,
   "sourceLang": "ru",
   "targetLang": "en",
   "useGoogleTranslate": true
  },
  "toc": {
   "base_numbering": 1,
   "nav_menu": {},
   "number_sections": true,
   "sideBar": true,
   "skip_h1_title": true,
   "title_cell": "Table of Contents",
   "title_sidebar": "Contents",
   "toc_cell": false,
   "toc_position": {
    "height": "calc(100% - 180px)",
    "left": "10px",
    "top": "150px",
    "width": "220.943px"
   },
   "toc_section_display": true,
   "toc_window_display": true
  }
 },
 "nbformat": 4,
 "nbformat_minor": 5
}
